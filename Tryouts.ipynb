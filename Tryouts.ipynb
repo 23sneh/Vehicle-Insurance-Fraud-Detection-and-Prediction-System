{
  "nbformat": 4,
  "nbformat_minor": 0,
  "metadata": {
    "colab": {
      "provenance": [],
      "gpuType": "T4"
    },
    "kernelspec": {
      "name": "python3",
      "display_name": "Python 3"
    },
    "language_info": {
      "name": "python"
    },
    "accelerator": "GPU"
  },
  "cells": [
    {
      "cell_type": "code",
      "execution_count": 1,
      "metadata": {
        "id": "zfOndOJmMjpU"
      },
      "outputs": [],
      "source": [
        "import pandas as pd\n",
        "import numpy as np\n",
        "import seaborn as sns\n",
        "import matplotlib.pyplot as plt\n",
        "import scipy.stats as stat\n",
        "import pylab\n",
        "\n",
        "from sklearn.metrics import confusion_matrix, accuracy_score,classification_report\n",
        "import warnings\n",
        "warnings.filterwarnings('ignore')\n",
        "warnings.filterwarnings(action = 'ignore', category = DeprecationWarning)\n",
        "warnings.filterwarnings(action = 'ignore', category = FutureWarning)"
      ]
    },
    {
      "cell_type": "code",
      "source": [
        "# load the dataset\n",
        "data = pd.read_csv('/content/generated_Sneh_dataset.csv')\n",
        "data.head()"
      ],
      "metadata": {
        "colab": {
          "base_uri": "https://localhost:8080/",
          "height": 290
        },
        "id": "YbeAp1bt7YFm",
        "outputId": "7a0db12c-f847-4e1f-d1ed-94706cdc9bf9"
      },
      "execution_count": 2,
      "outputs": [
        {
          "output_type": "execute_result",
          "data": {
            "text/plain": [
              "  Fraud  PolicyHolderNumber  VehicleNumber  InsuranceNoteSuspeciousLevel  \\\n",
              "0    No                5717           5835                             3   \n",
              "1    No                9386           8689                             4   \n",
              "2    No                2408           8321                             5   \n",
              "3    No                5153           2334                             5   \n",
              "4   Yes                7811           2258                             4   \n",
              "\n",
              "  PolicyHolderOccupation PolicyRecentlyTakenOrUpgraded    ClaimCause AgeGroup  \\\n",
              "0                 Doctor                            No  Glass Damage    40-50   \n",
              "1                Teacher                           Yes     Accidents    50-60   \n",
              "2            Electrician                            No     Vandalism    30-40   \n",
              "3            Salesperson                            No  Glass Damage    20-30   \n",
              "4                 Doctor                            No     Accidents    30-40   \n",
              "\n",
              "   ClaimAmount CarCompany  ... PolicyHolderIncome LivingStatus  FuelType  \\\n",
              "0      1229.68      Honda  ...             352314      Married    Petrol   \n",
              "1      9298.26     Toyota  ...             452377       Single  Electric   \n",
              "2      2939.69        BMW  ...             821368       Single  Electric   \n",
              "3      6783.45      Other  ...             566697      Married    Diesel   \n",
              "4      6298.16       Audi  ...             858536       Single  Electric   \n",
              "\n",
              "   SteeringType  IncidentHourOfDay witness ChargedForSpeedingViolation  \\\n",
              "0         Power                  9       4                          No   \n",
              "1        Manual                 17       0                          No   \n",
              "2      Electric                 24       3                         Yes   \n",
              "3         Power                  3       0                          No   \n",
              "4      Electric                  9       2                         Yes   \n",
              "\n",
              "  DrivingExperience  PastAccidents  PoliceReportFilled  \n",
              "0        5-10 years              0                  No  \n",
              "1         20+ years              1                  No  \n",
              "2        5-10 years              2                  No  \n",
              "3        5-10 years              4                  No  \n",
              "4        5-10 years              4                  No  \n",
              "\n",
              "[5 rows x 24 columns]"
            ],
            "text/html": [
              "\n",
              "  <div id=\"df-609be4c7-bcac-4c66-a136-75f1db1ee3e8\" class=\"colab-df-container\">\n",
              "    <div>\n",
              "<style scoped>\n",
              "    .dataframe tbody tr th:only-of-type {\n",
              "        vertical-align: middle;\n",
              "    }\n",
              "\n",
              "    .dataframe tbody tr th {\n",
              "        vertical-align: top;\n",
              "    }\n",
              "\n",
              "    .dataframe thead th {\n",
              "        text-align: right;\n",
              "    }\n",
              "</style>\n",
              "<table border=\"1\" class=\"dataframe\">\n",
              "  <thead>\n",
              "    <tr style=\"text-align: right;\">\n",
              "      <th></th>\n",
              "      <th>Fraud</th>\n",
              "      <th>PolicyHolderNumber</th>\n",
              "      <th>VehicleNumber</th>\n",
              "      <th>InsuranceNoteSuspeciousLevel</th>\n",
              "      <th>PolicyHolderOccupation</th>\n",
              "      <th>PolicyRecentlyTakenOrUpgraded</th>\n",
              "      <th>ClaimCause</th>\n",
              "      <th>AgeGroup</th>\n",
              "      <th>ClaimAmount</th>\n",
              "      <th>CarCompany</th>\n",
              "      <th>...</th>\n",
              "      <th>PolicyHolderIncome</th>\n",
              "      <th>LivingStatus</th>\n",
              "      <th>FuelType</th>\n",
              "      <th>SteeringType</th>\n",
              "      <th>IncidentHourOfDay</th>\n",
              "      <th>witness</th>\n",
              "      <th>ChargedForSpeedingViolation</th>\n",
              "      <th>DrivingExperience</th>\n",
              "      <th>PastAccidents</th>\n",
              "      <th>PoliceReportFilled</th>\n",
              "    </tr>\n",
              "  </thead>\n",
              "  <tbody>\n",
              "    <tr>\n",
              "      <th>0</th>\n",
              "      <td>No</td>\n",
              "      <td>5717</td>\n",
              "      <td>5835</td>\n",
              "      <td>3</td>\n",
              "      <td>Doctor</td>\n",
              "      <td>No</td>\n",
              "      <td>Glass Damage</td>\n",
              "      <td>40-50</td>\n",
              "      <td>1229.68</td>\n",
              "      <td>Honda</td>\n",
              "      <td>...</td>\n",
              "      <td>352314</td>\n",
              "      <td>Married</td>\n",
              "      <td>Petrol</td>\n",
              "      <td>Power</td>\n",
              "      <td>9</td>\n",
              "      <td>4</td>\n",
              "      <td>No</td>\n",
              "      <td>5-10 years</td>\n",
              "      <td>0</td>\n",
              "      <td>No</td>\n",
              "    </tr>\n",
              "    <tr>\n",
              "      <th>1</th>\n",
              "      <td>No</td>\n",
              "      <td>9386</td>\n",
              "      <td>8689</td>\n",
              "      <td>4</td>\n",
              "      <td>Teacher</td>\n",
              "      <td>Yes</td>\n",
              "      <td>Accidents</td>\n",
              "      <td>50-60</td>\n",
              "      <td>9298.26</td>\n",
              "      <td>Toyota</td>\n",
              "      <td>...</td>\n",
              "      <td>452377</td>\n",
              "      <td>Single</td>\n",
              "      <td>Electric</td>\n",
              "      <td>Manual</td>\n",
              "      <td>17</td>\n",
              "      <td>0</td>\n",
              "      <td>No</td>\n",
              "      <td>20+ years</td>\n",
              "      <td>1</td>\n",
              "      <td>No</td>\n",
              "    </tr>\n",
              "    <tr>\n",
              "      <th>2</th>\n",
              "      <td>No</td>\n",
              "      <td>2408</td>\n",
              "      <td>8321</td>\n",
              "      <td>5</td>\n",
              "      <td>Electrician</td>\n",
              "      <td>No</td>\n",
              "      <td>Vandalism</td>\n",
              "      <td>30-40</td>\n",
              "      <td>2939.69</td>\n",
              "      <td>BMW</td>\n",
              "      <td>...</td>\n",
              "      <td>821368</td>\n",
              "      <td>Single</td>\n",
              "      <td>Electric</td>\n",
              "      <td>Electric</td>\n",
              "      <td>24</td>\n",
              "      <td>3</td>\n",
              "      <td>Yes</td>\n",
              "      <td>5-10 years</td>\n",
              "      <td>2</td>\n",
              "      <td>No</td>\n",
              "    </tr>\n",
              "    <tr>\n",
              "      <th>3</th>\n",
              "      <td>No</td>\n",
              "      <td>5153</td>\n",
              "      <td>2334</td>\n",
              "      <td>5</td>\n",
              "      <td>Salesperson</td>\n",
              "      <td>No</td>\n",
              "      <td>Glass Damage</td>\n",
              "      <td>20-30</td>\n",
              "      <td>6783.45</td>\n",
              "      <td>Other</td>\n",
              "      <td>...</td>\n",
              "      <td>566697</td>\n",
              "      <td>Married</td>\n",
              "      <td>Diesel</td>\n",
              "      <td>Power</td>\n",
              "      <td>3</td>\n",
              "      <td>0</td>\n",
              "      <td>No</td>\n",
              "      <td>5-10 years</td>\n",
              "      <td>4</td>\n",
              "      <td>No</td>\n",
              "    </tr>\n",
              "    <tr>\n",
              "      <th>4</th>\n",
              "      <td>Yes</td>\n",
              "      <td>7811</td>\n",
              "      <td>2258</td>\n",
              "      <td>4</td>\n",
              "      <td>Doctor</td>\n",
              "      <td>No</td>\n",
              "      <td>Accidents</td>\n",
              "      <td>30-40</td>\n",
              "      <td>6298.16</td>\n",
              "      <td>Audi</td>\n",
              "      <td>...</td>\n",
              "      <td>858536</td>\n",
              "      <td>Single</td>\n",
              "      <td>Electric</td>\n",
              "      <td>Electric</td>\n",
              "      <td>9</td>\n",
              "      <td>2</td>\n",
              "      <td>Yes</td>\n",
              "      <td>5-10 years</td>\n",
              "      <td>4</td>\n",
              "      <td>No</td>\n",
              "    </tr>\n",
              "  </tbody>\n",
              "</table>\n",
              "<p>5 rows × 24 columns</p>\n",
              "</div>\n",
              "    <div class=\"colab-df-buttons\">\n",
              "\n",
              "  <div class=\"colab-df-container\">\n",
              "    <button class=\"colab-df-convert\" onclick=\"convertToInteractive('df-609be4c7-bcac-4c66-a136-75f1db1ee3e8')\"\n",
              "            title=\"Convert this dataframe to an interactive table.\"\n",
              "            style=\"display:none;\">\n",
              "\n",
              "  <svg xmlns=\"http://www.w3.org/2000/svg\" height=\"24px\" viewBox=\"0 -960 960 960\">\n",
              "    <path d=\"M120-120v-720h720v720H120Zm60-500h600v-160H180v160Zm220 220h160v-160H400v160Zm0 220h160v-160H400v160ZM180-400h160v-160H180v160Zm440 0h160v-160H620v160ZM180-180h160v-160H180v160Zm440 0h160v-160H620v160Z\"/>\n",
              "  </svg>\n",
              "    </button>\n",
              "\n",
              "  <style>\n",
              "    .colab-df-container {\n",
              "      display:flex;\n",
              "      gap: 12px;\n",
              "    }\n",
              "\n",
              "    .colab-df-convert {\n",
              "      background-color: #E8F0FE;\n",
              "      border: none;\n",
              "      border-radius: 50%;\n",
              "      cursor: pointer;\n",
              "      display: none;\n",
              "      fill: #1967D2;\n",
              "      height: 32px;\n",
              "      padding: 0 0 0 0;\n",
              "      width: 32px;\n",
              "    }\n",
              "\n",
              "    .colab-df-convert:hover {\n",
              "      background-color: #E2EBFA;\n",
              "      box-shadow: 0px 1px 2px rgba(60, 64, 67, 0.3), 0px 1px 3px 1px rgba(60, 64, 67, 0.15);\n",
              "      fill: #174EA6;\n",
              "    }\n",
              "\n",
              "    .colab-df-buttons div {\n",
              "      margin-bottom: 4px;\n",
              "    }\n",
              "\n",
              "    [theme=dark] .colab-df-convert {\n",
              "      background-color: #3B4455;\n",
              "      fill: #D2E3FC;\n",
              "    }\n",
              "\n",
              "    [theme=dark] .colab-df-convert:hover {\n",
              "      background-color: #434B5C;\n",
              "      box-shadow: 0px 1px 3px 1px rgba(0, 0, 0, 0.15);\n",
              "      filter: drop-shadow(0px 1px 2px rgba(0, 0, 0, 0.3));\n",
              "      fill: #FFFFFF;\n",
              "    }\n",
              "  </style>\n",
              "\n",
              "    <script>\n",
              "      const buttonEl =\n",
              "        document.querySelector('#df-609be4c7-bcac-4c66-a136-75f1db1ee3e8 button.colab-df-convert');\n",
              "      buttonEl.style.display =\n",
              "        google.colab.kernel.accessAllowed ? 'block' : 'none';\n",
              "\n",
              "      async function convertToInteractive(key) {\n",
              "        const element = document.querySelector('#df-609be4c7-bcac-4c66-a136-75f1db1ee3e8');\n",
              "        const dataTable =\n",
              "          await google.colab.kernel.invokeFunction('convertToInteractive',\n",
              "                                                    [key], {});\n",
              "        if (!dataTable) return;\n",
              "\n",
              "        const docLinkHtml = 'Like what you see? Visit the ' +\n",
              "          '<a target=\"_blank\" href=https://colab.research.google.com/notebooks/data_table.ipynb>data table notebook</a>'\n",
              "          + ' to learn more about interactive tables.';\n",
              "        element.innerHTML = '';\n",
              "        dataTable['output_type'] = 'display_data';\n",
              "        await google.colab.output.renderOutput(dataTable, element);\n",
              "        const docLink = document.createElement('div');\n",
              "        docLink.innerHTML = docLinkHtml;\n",
              "        element.appendChild(docLink);\n",
              "      }\n",
              "    </script>\n",
              "  </div>\n",
              "\n",
              "\n",
              "<div id=\"df-62693684-f1d0-4915-8ce1-8791e9ae746e\">\n",
              "  <button class=\"colab-df-quickchart\" onclick=\"quickchart('df-62693684-f1d0-4915-8ce1-8791e9ae746e')\"\n",
              "            title=\"Suggest charts.\"\n",
              "            style=\"display:none;\">\n",
              "\n",
              "<svg xmlns=\"http://www.w3.org/2000/svg\" height=\"24px\"viewBox=\"0 0 24 24\"\n",
              "     width=\"24px\">\n",
              "    <g>\n",
              "        <path d=\"M19 3H5c-1.1 0-2 .9-2 2v14c0 1.1.9 2 2 2h14c1.1 0 2-.9 2-2V5c0-1.1-.9-2-2-2zM9 17H7v-7h2v7zm4 0h-2V7h2v10zm4 0h-2v-4h2v4z\"/>\n",
              "    </g>\n",
              "</svg>\n",
              "  </button>\n",
              "\n",
              "<style>\n",
              "  .colab-df-quickchart {\n",
              "    background-color: #E8F0FE;\n",
              "    border: none;\n",
              "    border-radius: 50%;\n",
              "    cursor: pointer;\n",
              "    display: none;\n",
              "    fill: #1967D2;\n",
              "    height: 32px;\n",
              "    padding: 0 0 0 0;\n",
              "    width: 32px;\n",
              "  }\n",
              "\n",
              "  .colab-df-quickchart:hover {\n",
              "    background-color: #E2EBFA;\n",
              "    box-shadow: 0px 1px 2px rgba(60, 64, 67, 0.3), 0px 1px 3px 1px rgba(60, 64, 67, 0.15);\n",
              "    fill: #174EA6;\n",
              "  }\n",
              "\n",
              "  [theme=dark] .colab-df-quickchart {\n",
              "    background-color: #3B4455;\n",
              "    fill: #D2E3FC;\n",
              "  }\n",
              "\n",
              "  [theme=dark] .colab-df-quickchart:hover {\n",
              "    background-color: #434B5C;\n",
              "    box-shadow: 0px 1px 3px 1px rgba(0, 0, 0, 0.15);\n",
              "    filter: drop-shadow(0px 1px 2px rgba(0, 0, 0, 0.3));\n",
              "    fill: #FFFFFF;\n",
              "  }\n",
              "</style>\n",
              "\n",
              "  <script>\n",
              "    async function quickchart(key) {\n",
              "      const charts = await google.colab.kernel.invokeFunction(\n",
              "          'suggestCharts', [key], {});\n",
              "    }\n",
              "    (() => {\n",
              "      let quickchartButtonEl =\n",
              "        document.querySelector('#df-62693684-f1d0-4915-8ce1-8791e9ae746e button');\n",
              "      quickchartButtonEl.style.display =\n",
              "        google.colab.kernel.accessAllowed ? 'block' : 'none';\n",
              "    })();\n",
              "  </script>\n",
              "</div>\n",
              "    </div>\n",
              "  </div>\n"
            ]
          },
          "metadata": {},
          "execution_count": 2
        }
      ]
    },
    {
      "cell_type": "code",
      "source": [
        "cols_to_drop = ['PolicyHolderNumber','VehicleNumber','CarCompany','CarType','FuelType','SteeringType']"
      ],
      "metadata": {
        "id": "LGvOE3vV7roN"
      },
      "execution_count": 3,
      "outputs": []
    },
    {
      "cell_type": "code",
      "source": [
        "data.drop(columns=cols_to_drop,inplace=True)"
      ],
      "metadata": {
        "id": "CrhnZK1C7uDy"
      },
      "execution_count": 4,
      "outputs": []
    },
    {
      "cell_type": "code",
      "source": [
        "data.head()"
      ],
      "metadata": {
        "colab": {
          "base_uri": "https://localhost:8080/",
          "height": 261
        },
        "id": "_F-YZ4Y_-H5_",
        "outputId": "cea576a1-7e97-4dee-8745-53e41852e8e6"
      },
      "execution_count": 5,
      "outputs": [
        {
          "output_type": "execute_result",
          "data": {
            "text/plain": [
              "  Fraud  InsuranceNoteSuspeciousLevel PolicyHolderOccupation  \\\n",
              "0    No                             3                 Doctor   \n",
              "1    No                             4                Teacher   \n",
              "2    No                             5            Electrician   \n",
              "3    No                             5            Salesperson   \n",
              "4   Yes                             4                 Doctor   \n",
              "\n",
              "  PolicyRecentlyTakenOrUpgraded    ClaimCause AgeGroup  ClaimAmount     Sex  \\\n",
              "0                            No  Glass Damage    40-50      1229.68    Male   \n",
              "1                           Yes     Accidents    50-60      9298.26  Female   \n",
              "2                            No     Vandalism    30-40      2939.69    Male   \n",
              "3                            No  Glass Damage    20-30      6783.45  Female   \n",
              "4                            No     Accidents    30-40      6298.16    Male   \n",
              "\n",
              "   ClaimsFrequency  SafetyRating  PolicyHolderIncome LivingStatus  \\\n",
              "0                0             2              352314      Married   \n",
              "1                2             1              452377       Single   \n",
              "2                1             0              821368       Single   \n",
              "3                0             0              566697      Married   \n",
              "4                2             1              858536       Single   \n",
              "\n",
              "   IncidentHourOfDay  witness ChargedForSpeedingViolation DrivingExperience  \\\n",
              "0                  9        4                          No        5-10 years   \n",
              "1                 17        0                          No         20+ years   \n",
              "2                 24        3                         Yes        5-10 years   \n",
              "3                  3        0                          No        5-10 years   \n",
              "4                  9        2                         Yes        5-10 years   \n",
              "\n",
              "   PastAccidents PoliceReportFilled  \n",
              "0              0                 No  \n",
              "1              1                 No  \n",
              "2              2                 No  \n",
              "3              4                 No  \n",
              "4              4                 No  "
            ],
            "text/html": [
              "\n",
              "  <div id=\"df-65ef64d2-b6ae-4d8b-bd81-6309feb2b2bd\" class=\"colab-df-container\">\n",
              "    <div>\n",
              "<style scoped>\n",
              "    .dataframe tbody tr th:only-of-type {\n",
              "        vertical-align: middle;\n",
              "    }\n",
              "\n",
              "    .dataframe tbody tr th {\n",
              "        vertical-align: top;\n",
              "    }\n",
              "\n",
              "    .dataframe thead th {\n",
              "        text-align: right;\n",
              "    }\n",
              "</style>\n",
              "<table border=\"1\" class=\"dataframe\">\n",
              "  <thead>\n",
              "    <tr style=\"text-align: right;\">\n",
              "      <th></th>\n",
              "      <th>Fraud</th>\n",
              "      <th>InsuranceNoteSuspeciousLevel</th>\n",
              "      <th>PolicyHolderOccupation</th>\n",
              "      <th>PolicyRecentlyTakenOrUpgraded</th>\n",
              "      <th>ClaimCause</th>\n",
              "      <th>AgeGroup</th>\n",
              "      <th>ClaimAmount</th>\n",
              "      <th>Sex</th>\n",
              "      <th>ClaimsFrequency</th>\n",
              "      <th>SafetyRating</th>\n",
              "      <th>PolicyHolderIncome</th>\n",
              "      <th>LivingStatus</th>\n",
              "      <th>IncidentHourOfDay</th>\n",
              "      <th>witness</th>\n",
              "      <th>ChargedForSpeedingViolation</th>\n",
              "      <th>DrivingExperience</th>\n",
              "      <th>PastAccidents</th>\n",
              "      <th>PoliceReportFilled</th>\n",
              "    </tr>\n",
              "  </thead>\n",
              "  <tbody>\n",
              "    <tr>\n",
              "      <th>0</th>\n",
              "      <td>No</td>\n",
              "      <td>3</td>\n",
              "      <td>Doctor</td>\n",
              "      <td>No</td>\n",
              "      <td>Glass Damage</td>\n",
              "      <td>40-50</td>\n",
              "      <td>1229.68</td>\n",
              "      <td>Male</td>\n",
              "      <td>0</td>\n",
              "      <td>2</td>\n",
              "      <td>352314</td>\n",
              "      <td>Married</td>\n",
              "      <td>9</td>\n",
              "      <td>4</td>\n",
              "      <td>No</td>\n",
              "      <td>5-10 years</td>\n",
              "      <td>0</td>\n",
              "      <td>No</td>\n",
              "    </tr>\n",
              "    <tr>\n",
              "      <th>1</th>\n",
              "      <td>No</td>\n",
              "      <td>4</td>\n",
              "      <td>Teacher</td>\n",
              "      <td>Yes</td>\n",
              "      <td>Accidents</td>\n",
              "      <td>50-60</td>\n",
              "      <td>9298.26</td>\n",
              "      <td>Female</td>\n",
              "      <td>2</td>\n",
              "      <td>1</td>\n",
              "      <td>452377</td>\n",
              "      <td>Single</td>\n",
              "      <td>17</td>\n",
              "      <td>0</td>\n",
              "      <td>No</td>\n",
              "      <td>20+ years</td>\n",
              "      <td>1</td>\n",
              "      <td>No</td>\n",
              "    </tr>\n",
              "    <tr>\n",
              "      <th>2</th>\n",
              "      <td>No</td>\n",
              "      <td>5</td>\n",
              "      <td>Electrician</td>\n",
              "      <td>No</td>\n",
              "      <td>Vandalism</td>\n",
              "      <td>30-40</td>\n",
              "      <td>2939.69</td>\n",
              "      <td>Male</td>\n",
              "      <td>1</td>\n",
              "      <td>0</td>\n",
              "      <td>821368</td>\n",
              "      <td>Single</td>\n",
              "      <td>24</td>\n",
              "      <td>3</td>\n",
              "      <td>Yes</td>\n",
              "      <td>5-10 years</td>\n",
              "      <td>2</td>\n",
              "      <td>No</td>\n",
              "    </tr>\n",
              "    <tr>\n",
              "      <th>3</th>\n",
              "      <td>No</td>\n",
              "      <td>5</td>\n",
              "      <td>Salesperson</td>\n",
              "      <td>No</td>\n",
              "      <td>Glass Damage</td>\n",
              "      <td>20-30</td>\n",
              "      <td>6783.45</td>\n",
              "      <td>Female</td>\n",
              "      <td>0</td>\n",
              "      <td>0</td>\n",
              "      <td>566697</td>\n",
              "      <td>Married</td>\n",
              "      <td>3</td>\n",
              "      <td>0</td>\n",
              "      <td>No</td>\n",
              "      <td>5-10 years</td>\n",
              "      <td>4</td>\n",
              "      <td>No</td>\n",
              "    </tr>\n",
              "    <tr>\n",
              "      <th>4</th>\n",
              "      <td>Yes</td>\n",
              "      <td>4</td>\n",
              "      <td>Doctor</td>\n",
              "      <td>No</td>\n",
              "      <td>Accidents</td>\n",
              "      <td>30-40</td>\n",
              "      <td>6298.16</td>\n",
              "      <td>Male</td>\n",
              "      <td>2</td>\n",
              "      <td>1</td>\n",
              "      <td>858536</td>\n",
              "      <td>Single</td>\n",
              "      <td>9</td>\n",
              "      <td>2</td>\n",
              "      <td>Yes</td>\n",
              "      <td>5-10 years</td>\n",
              "      <td>4</td>\n",
              "      <td>No</td>\n",
              "    </tr>\n",
              "  </tbody>\n",
              "</table>\n",
              "</div>\n",
              "    <div class=\"colab-df-buttons\">\n",
              "\n",
              "  <div class=\"colab-df-container\">\n",
              "    <button class=\"colab-df-convert\" onclick=\"convertToInteractive('df-65ef64d2-b6ae-4d8b-bd81-6309feb2b2bd')\"\n",
              "            title=\"Convert this dataframe to an interactive table.\"\n",
              "            style=\"display:none;\">\n",
              "\n",
              "  <svg xmlns=\"http://www.w3.org/2000/svg\" height=\"24px\" viewBox=\"0 -960 960 960\">\n",
              "    <path d=\"M120-120v-720h720v720H120Zm60-500h600v-160H180v160Zm220 220h160v-160H400v160Zm0 220h160v-160H400v160ZM180-400h160v-160H180v160Zm440 0h160v-160H620v160ZM180-180h160v-160H180v160Zm440 0h160v-160H620v160Z\"/>\n",
              "  </svg>\n",
              "    </button>\n",
              "\n",
              "  <style>\n",
              "    .colab-df-container {\n",
              "      display:flex;\n",
              "      gap: 12px;\n",
              "    }\n",
              "\n",
              "    .colab-df-convert {\n",
              "      background-color: #E8F0FE;\n",
              "      border: none;\n",
              "      border-radius: 50%;\n",
              "      cursor: pointer;\n",
              "      display: none;\n",
              "      fill: #1967D2;\n",
              "      height: 32px;\n",
              "      padding: 0 0 0 0;\n",
              "      width: 32px;\n",
              "    }\n",
              "\n",
              "    .colab-df-convert:hover {\n",
              "      background-color: #E2EBFA;\n",
              "      box-shadow: 0px 1px 2px rgba(60, 64, 67, 0.3), 0px 1px 3px 1px rgba(60, 64, 67, 0.15);\n",
              "      fill: #174EA6;\n",
              "    }\n",
              "\n",
              "    .colab-df-buttons div {\n",
              "      margin-bottom: 4px;\n",
              "    }\n",
              "\n",
              "    [theme=dark] .colab-df-convert {\n",
              "      background-color: #3B4455;\n",
              "      fill: #D2E3FC;\n",
              "    }\n",
              "\n",
              "    [theme=dark] .colab-df-convert:hover {\n",
              "      background-color: #434B5C;\n",
              "      box-shadow: 0px 1px 3px 1px rgba(0, 0, 0, 0.15);\n",
              "      filter: drop-shadow(0px 1px 2px rgba(0, 0, 0, 0.3));\n",
              "      fill: #FFFFFF;\n",
              "    }\n",
              "  </style>\n",
              "\n",
              "    <script>\n",
              "      const buttonEl =\n",
              "        document.querySelector('#df-65ef64d2-b6ae-4d8b-bd81-6309feb2b2bd button.colab-df-convert');\n",
              "      buttonEl.style.display =\n",
              "        google.colab.kernel.accessAllowed ? 'block' : 'none';\n",
              "\n",
              "      async function convertToInteractive(key) {\n",
              "        const element = document.querySelector('#df-65ef64d2-b6ae-4d8b-bd81-6309feb2b2bd');\n",
              "        const dataTable =\n",
              "          await google.colab.kernel.invokeFunction('convertToInteractive',\n",
              "                                                    [key], {});\n",
              "        if (!dataTable) return;\n",
              "\n",
              "        const docLinkHtml = 'Like what you see? Visit the ' +\n",
              "          '<a target=\"_blank\" href=https://colab.research.google.com/notebooks/data_table.ipynb>data table notebook</a>'\n",
              "          + ' to learn more about interactive tables.';\n",
              "        element.innerHTML = '';\n",
              "        dataTable['output_type'] = 'display_data';\n",
              "        await google.colab.output.renderOutput(dataTable, element);\n",
              "        const docLink = document.createElement('div');\n",
              "        docLink.innerHTML = docLinkHtml;\n",
              "        element.appendChild(docLink);\n",
              "      }\n",
              "    </script>\n",
              "  </div>\n",
              "\n",
              "\n",
              "<div id=\"df-887fffb0-ad2b-4710-ad6b-92ed65f57fe2\">\n",
              "  <button class=\"colab-df-quickchart\" onclick=\"quickchart('df-887fffb0-ad2b-4710-ad6b-92ed65f57fe2')\"\n",
              "            title=\"Suggest charts.\"\n",
              "            style=\"display:none;\">\n",
              "\n",
              "<svg xmlns=\"http://www.w3.org/2000/svg\" height=\"24px\"viewBox=\"0 0 24 24\"\n",
              "     width=\"24px\">\n",
              "    <g>\n",
              "        <path d=\"M19 3H5c-1.1 0-2 .9-2 2v14c0 1.1.9 2 2 2h14c1.1 0 2-.9 2-2V5c0-1.1-.9-2-2-2zM9 17H7v-7h2v7zm4 0h-2V7h2v10zm4 0h-2v-4h2v4z\"/>\n",
              "    </g>\n",
              "</svg>\n",
              "  </button>\n",
              "\n",
              "<style>\n",
              "  .colab-df-quickchart {\n",
              "    background-color: #E8F0FE;\n",
              "    border: none;\n",
              "    border-radius: 50%;\n",
              "    cursor: pointer;\n",
              "    display: none;\n",
              "    fill: #1967D2;\n",
              "    height: 32px;\n",
              "    padding: 0 0 0 0;\n",
              "    width: 32px;\n",
              "  }\n",
              "\n",
              "  .colab-df-quickchart:hover {\n",
              "    background-color: #E2EBFA;\n",
              "    box-shadow: 0px 1px 2px rgba(60, 64, 67, 0.3), 0px 1px 3px 1px rgba(60, 64, 67, 0.15);\n",
              "    fill: #174EA6;\n",
              "  }\n",
              "\n",
              "  [theme=dark] .colab-df-quickchart {\n",
              "    background-color: #3B4455;\n",
              "    fill: #D2E3FC;\n",
              "  }\n",
              "\n",
              "  [theme=dark] .colab-df-quickchart:hover {\n",
              "    background-color: #434B5C;\n",
              "    box-shadow: 0px 1px 3px 1px rgba(0, 0, 0, 0.15);\n",
              "    filter: drop-shadow(0px 1px 2px rgba(0, 0, 0, 0.3));\n",
              "    fill: #FFFFFF;\n",
              "  }\n",
              "</style>\n",
              "\n",
              "  <script>\n",
              "    async function quickchart(key) {\n",
              "      const charts = await google.colab.kernel.invokeFunction(\n",
              "          'suggestCharts', [key], {});\n",
              "    }\n",
              "    (() => {\n",
              "      let quickchartButtonEl =\n",
              "        document.querySelector('#df-887fffb0-ad2b-4710-ad6b-92ed65f57fe2 button');\n",
              "      quickchartButtonEl.style.display =\n",
              "        google.colab.kernel.accessAllowed ? 'block' : 'none';\n",
              "    })();\n",
              "  </script>\n",
              "</div>\n",
              "    </div>\n",
              "  </div>\n"
            ]
          },
          "metadata": {},
          "execution_count": 5
        }
      ]
    },
    {
      "cell_type": "code",
      "source": [
        "cat_cols = [col for col in data.columns if data[col].dtypes == 'O']"
      ],
      "metadata": {
        "id": "HHDMfGQn-SjU"
      },
      "execution_count": 6,
      "outputs": []
    },
    {
      "cell_type": "code",
      "source": [
        "from sklearn.preprocessing import LabelEncoder\n",
        "\n",
        "label_encoder = LabelEncoder()\n",
        "X = data[cat_cols].apply(label_encoder.fit_transform)"
      ],
      "metadata": {
        "id": "ZHpJK_rb-KC6"
      },
      "execution_count": 7,
      "outputs": []
    },
    {
      "cell_type": "code",
      "source": [
        "X"
      ],
      "metadata": {
        "colab": {
          "base_uri": "https://localhost:8080/",
          "height": 423
        },
        "id": "kG5jYkHb_i0Z",
        "outputId": "51bac73e-d08f-4a74-f413-690af1a41d8b"
      },
      "execution_count": 8,
      "outputs": [
        {
          "output_type": "execute_result",
          "data": {
            "text/plain": [
              "        Fraud  PolicyHolderOccupation  PolicyRecentlyTakenOrUpgraded  \\\n",
              "0           0                       2                              0   \n",
              "1           0                      13                              1   \n",
              "2           0                       4                              0   \n",
              "3           0                      10                              0   \n",
              "4           1                       2                              0   \n",
              "...       ...                     ...                            ...   \n",
              "923851      0                       5                              0   \n",
              "923852      0                       5                              1   \n",
              "923853      0                       5                              0   \n",
              "923854      0                       6                              0   \n",
              "923855      0                       4                              1   \n",
              "\n",
              "        ClaimCause  AgeGroup  Sex  LivingStatus  ChargedForSpeedingViolation  \\\n",
              "0                6         2    1             0                            0   \n",
              "1                0         3    0             1                            0   \n",
              "2               12         1    1             1                            1   \n",
              "3                6         0    0             0                            0   \n",
              "4                0         1    1             1                            1   \n",
              "...            ...       ...  ...           ...                          ...   \n",
              "923851           1         3    1             1                            1   \n",
              "923852           8         0    1             0                            0   \n",
              "923853           9         0    1             1                            1   \n",
              "923854          12         3    0             1                            1   \n",
              "923855           6         1    0             0                            1   \n",
              "\n",
              "        DrivingExperience  PoliceReportFilled  \n",
              "0                       3                   0  \n",
              "1                       2                   0  \n",
              "2                       3                   0  \n",
              "3                       3                   0  \n",
              "4                       3                   0  \n",
              "...                   ...                 ...  \n",
              "923851                  3                   0  \n",
              "923852                  2                   0  \n",
              "923853                  3                   0  \n",
              "923854                  3                   0  \n",
              "923855                  0                   0  \n",
              "\n",
              "[923856 rows x 10 columns]"
            ],
            "text/html": [
              "\n",
              "  <div id=\"df-1aabbf0e-5da2-4a5b-b98c-69a8b0fd5412\" class=\"colab-df-container\">\n",
              "    <div>\n",
              "<style scoped>\n",
              "    .dataframe tbody tr th:only-of-type {\n",
              "        vertical-align: middle;\n",
              "    }\n",
              "\n",
              "    .dataframe tbody tr th {\n",
              "        vertical-align: top;\n",
              "    }\n",
              "\n",
              "    .dataframe thead th {\n",
              "        text-align: right;\n",
              "    }\n",
              "</style>\n",
              "<table border=\"1\" class=\"dataframe\">\n",
              "  <thead>\n",
              "    <tr style=\"text-align: right;\">\n",
              "      <th></th>\n",
              "      <th>Fraud</th>\n",
              "      <th>PolicyHolderOccupation</th>\n",
              "      <th>PolicyRecentlyTakenOrUpgraded</th>\n",
              "      <th>ClaimCause</th>\n",
              "      <th>AgeGroup</th>\n",
              "      <th>Sex</th>\n",
              "      <th>LivingStatus</th>\n",
              "      <th>ChargedForSpeedingViolation</th>\n",
              "      <th>DrivingExperience</th>\n",
              "      <th>PoliceReportFilled</th>\n",
              "    </tr>\n",
              "  </thead>\n",
              "  <tbody>\n",
              "    <tr>\n",
              "      <th>0</th>\n",
              "      <td>0</td>\n",
              "      <td>2</td>\n",
              "      <td>0</td>\n",
              "      <td>6</td>\n",
              "      <td>2</td>\n",
              "      <td>1</td>\n",
              "      <td>0</td>\n",
              "      <td>0</td>\n",
              "      <td>3</td>\n",
              "      <td>0</td>\n",
              "    </tr>\n",
              "    <tr>\n",
              "      <th>1</th>\n",
              "      <td>0</td>\n",
              "      <td>13</td>\n",
              "      <td>1</td>\n",
              "      <td>0</td>\n",
              "      <td>3</td>\n",
              "      <td>0</td>\n",
              "      <td>1</td>\n",
              "      <td>0</td>\n",
              "      <td>2</td>\n",
              "      <td>0</td>\n",
              "    </tr>\n",
              "    <tr>\n",
              "      <th>2</th>\n",
              "      <td>0</td>\n",
              "      <td>4</td>\n",
              "      <td>0</td>\n",
              "      <td>12</td>\n",
              "      <td>1</td>\n",
              "      <td>1</td>\n",
              "      <td>1</td>\n",
              "      <td>1</td>\n",
              "      <td>3</td>\n",
              "      <td>0</td>\n",
              "    </tr>\n",
              "    <tr>\n",
              "      <th>3</th>\n",
              "      <td>0</td>\n",
              "      <td>10</td>\n",
              "      <td>0</td>\n",
              "      <td>6</td>\n",
              "      <td>0</td>\n",
              "      <td>0</td>\n",
              "      <td>0</td>\n",
              "      <td>0</td>\n",
              "      <td>3</td>\n",
              "      <td>0</td>\n",
              "    </tr>\n",
              "    <tr>\n",
              "      <th>4</th>\n",
              "      <td>1</td>\n",
              "      <td>2</td>\n",
              "      <td>0</td>\n",
              "      <td>0</td>\n",
              "      <td>1</td>\n",
              "      <td>1</td>\n",
              "      <td>1</td>\n",
              "      <td>1</td>\n",
              "      <td>3</td>\n",
              "      <td>0</td>\n",
              "    </tr>\n",
              "    <tr>\n",
              "      <th>...</th>\n",
              "      <td>...</td>\n",
              "      <td>...</td>\n",
              "      <td>...</td>\n",
              "      <td>...</td>\n",
              "      <td>...</td>\n",
              "      <td>...</td>\n",
              "      <td>...</td>\n",
              "      <td>...</td>\n",
              "      <td>...</td>\n",
              "      <td>...</td>\n",
              "    </tr>\n",
              "    <tr>\n",
              "      <th>923851</th>\n",
              "      <td>0</td>\n",
              "      <td>5</td>\n",
              "      <td>0</td>\n",
              "      <td>1</td>\n",
              "      <td>3</td>\n",
              "      <td>1</td>\n",
              "      <td>1</td>\n",
              "      <td>1</td>\n",
              "      <td>3</td>\n",
              "      <td>0</td>\n",
              "    </tr>\n",
              "    <tr>\n",
              "      <th>923852</th>\n",
              "      <td>0</td>\n",
              "      <td>5</td>\n",
              "      <td>1</td>\n",
              "      <td>8</td>\n",
              "      <td>0</td>\n",
              "      <td>1</td>\n",
              "      <td>0</td>\n",
              "      <td>0</td>\n",
              "      <td>2</td>\n",
              "      <td>0</td>\n",
              "    </tr>\n",
              "    <tr>\n",
              "      <th>923853</th>\n",
              "      <td>0</td>\n",
              "      <td>5</td>\n",
              "      <td>0</td>\n",
              "      <td>9</td>\n",
              "      <td>0</td>\n",
              "      <td>1</td>\n",
              "      <td>1</td>\n",
              "      <td>1</td>\n",
              "      <td>3</td>\n",
              "      <td>0</td>\n",
              "    </tr>\n",
              "    <tr>\n",
              "      <th>923854</th>\n",
              "      <td>0</td>\n",
              "      <td>6</td>\n",
              "      <td>0</td>\n",
              "      <td>12</td>\n",
              "      <td>3</td>\n",
              "      <td>0</td>\n",
              "      <td>1</td>\n",
              "      <td>1</td>\n",
              "      <td>3</td>\n",
              "      <td>0</td>\n",
              "    </tr>\n",
              "    <tr>\n",
              "      <th>923855</th>\n",
              "      <td>0</td>\n",
              "      <td>4</td>\n",
              "      <td>1</td>\n",
              "      <td>6</td>\n",
              "      <td>1</td>\n",
              "      <td>0</td>\n",
              "      <td>0</td>\n",
              "      <td>1</td>\n",
              "      <td>0</td>\n",
              "      <td>0</td>\n",
              "    </tr>\n",
              "  </tbody>\n",
              "</table>\n",
              "<p>923856 rows × 10 columns</p>\n",
              "</div>\n",
              "    <div class=\"colab-df-buttons\">\n",
              "\n",
              "  <div class=\"colab-df-container\">\n",
              "    <button class=\"colab-df-convert\" onclick=\"convertToInteractive('df-1aabbf0e-5da2-4a5b-b98c-69a8b0fd5412')\"\n",
              "            title=\"Convert this dataframe to an interactive table.\"\n",
              "            style=\"display:none;\">\n",
              "\n",
              "  <svg xmlns=\"http://www.w3.org/2000/svg\" height=\"24px\" viewBox=\"0 -960 960 960\">\n",
              "    <path d=\"M120-120v-720h720v720H120Zm60-500h600v-160H180v160Zm220 220h160v-160H400v160Zm0 220h160v-160H400v160ZM180-400h160v-160H180v160Zm440 0h160v-160H620v160ZM180-180h160v-160H180v160Zm440 0h160v-160H620v160Z\"/>\n",
              "  </svg>\n",
              "    </button>\n",
              "\n",
              "  <style>\n",
              "    .colab-df-container {\n",
              "      display:flex;\n",
              "      gap: 12px;\n",
              "    }\n",
              "\n",
              "    .colab-df-convert {\n",
              "      background-color: #E8F0FE;\n",
              "      border: none;\n",
              "      border-radius: 50%;\n",
              "      cursor: pointer;\n",
              "      display: none;\n",
              "      fill: #1967D2;\n",
              "      height: 32px;\n",
              "      padding: 0 0 0 0;\n",
              "      width: 32px;\n",
              "    }\n",
              "\n",
              "    .colab-df-convert:hover {\n",
              "      background-color: #E2EBFA;\n",
              "      box-shadow: 0px 1px 2px rgba(60, 64, 67, 0.3), 0px 1px 3px 1px rgba(60, 64, 67, 0.15);\n",
              "      fill: #174EA6;\n",
              "    }\n",
              "\n",
              "    .colab-df-buttons div {\n",
              "      margin-bottom: 4px;\n",
              "    }\n",
              "\n",
              "    [theme=dark] .colab-df-convert {\n",
              "      background-color: #3B4455;\n",
              "      fill: #D2E3FC;\n",
              "    }\n",
              "\n",
              "    [theme=dark] .colab-df-convert:hover {\n",
              "      background-color: #434B5C;\n",
              "      box-shadow: 0px 1px 3px 1px rgba(0, 0, 0, 0.15);\n",
              "      filter: drop-shadow(0px 1px 2px rgba(0, 0, 0, 0.3));\n",
              "      fill: #FFFFFF;\n",
              "    }\n",
              "  </style>\n",
              "\n",
              "    <script>\n",
              "      const buttonEl =\n",
              "        document.querySelector('#df-1aabbf0e-5da2-4a5b-b98c-69a8b0fd5412 button.colab-df-convert');\n",
              "      buttonEl.style.display =\n",
              "        google.colab.kernel.accessAllowed ? 'block' : 'none';\n",
              "\n",
              "      async function convertToInteractive(key) {\n",
              "        const element = document.querySelector('#df-1aabbf0e-5da2-4a5b-b98c-69a8b0fd5412');\n",
              "        const dataTable =\n",
              "          await google.colab.kernel.invokeFunction('convertToInteractive',\n",
              "                                                    [key], {});\n",
              "        if (!dataTable) return;\n",
              "\n",
              "        const docLinkHtml = 'Like what you see? Visit the ' +\n",
              "          '<a target=\"_blank\" href=https://colab.research.google.com/notebooks/data_table.ipynb>data table notebook</a>'\n",
              "          + ' to learn more about interactive tables.';\n",
              "        element.innerHTML = '';\n",
              "        dataTable['output_type'] = 'display_data';\n",
              "        await google.colab.output.renderOutput(dataTable, element);\n",
              "        const docLink = document.createElement('div');\n",
              "        docLink.innerHTML = docLinkHtml;\n",
              "        element.appendChild(docLink);\n",
              "      }\n",
              "    </script>\n",
              "  </div>\n",
              "\n",
              "\n",
              "<div id=\"df-9ad42369-6220-456e-b168-655607cc2a3b\">\n",
              "  <button class=\"colab-df-quickchart\" onclick=\"quickchart('df-9ad42369-6220-456e-b168-655607cc2a3b')\"\n",
              "            title=\"Suggest charts.\"\n",
              "            style=\"display:none;\">\n",
              "\n",
              "<svg xmlns=\"http://www.w3.org/2000/svg\" height=\"24px\"viewBox=\"0 0 24 24\"\n",
              "     width=\"24px\">\n",
              "    <g>\n",
              "        <path d=\"M19 3H5c-1.1 0-2 .9-2 2v14c0 1.1.9 2 2 2h14c1.1 0 2-.9 2-2V5c0-1.1-.9-2-2-2zM9 17H7v-7h2v7zm4 0h-2V7h2v10zm4 0h-2v-4h2v4z\"/>\n",
              "    </g>\n",
              "</svg>\n",
              "  </button>\n",
              "\n",
              "<style>\n",
              "  .colab-df-quickchart {\n",
              "    background-color: #E8F0FE;\n",
              "    border: none;\n",
              "    border-radius: 50%;\n",
              "    cursor: pointer;\n",
              "    display: none;\n",
              "    fill: #1967D2;\n",
              "    height: 32px;\n",
              "    padding: 0 0 0 0;\n",
              "    width: 32px;\n",
              "  }\n",
              "\n",
              "  .colab-df-quickchart:hover {\n",
              "    background-color: #E2EBFA;\n",
              "    box-shadow: 0px 1px 2px rgba(60, 64, 67, 0.3), 0px 1px 3px 1px rgba(60, 64, 67, 0.15);\n",
              "    fill: #174EA6;\n",
              "  }\n",
              "\n",
              "  [theme=dark] .colab-df-quickchart {\n",
              "    background-color: #3B4455;\n",
              "    fill: #D2E3FC;\n",
              "  }\n",
              "\n",
              "  [theme=dark] .colab-df-quickchart:hover {\n",
              "    background-color: #434B5C;\n",
              "    box-shadow: 0px 1px 3px 1px rgba(0, 0, 0, 0.15);\n",
              "    filter: drop-shadow(0px 1px 2px rgba(0, 0, 0, 0.3));\n",
              "    fill: #FFFFFF;\n",
              "  }\n",
              "</style>\n",
              "\n",
              "  <script>\n",
              "    async function quickchart(key) {\n",
              "      const charts = await google.colab.kernel.invokeFunction(\n",
              "          'suggestCharts', [key], {});\n",
              "    }\n",
              "    (() => {\n",
              "      let quickchartButtonEl =\n",
              "        document.querySelector('#df-9ad42369-6220-456e-b168-655607cc2a3b button');\n",
              "      quickchartButtonEl.style.display =\n",
              "        google.colab.kernel.accessAllowed ? 'block' : 'none';\n",
              "    })();\n",
              "  </script>\n",
              "</div>\n",
              "    </div>\n",
              "  </div>\n"
            ]
          },
          "metadata": {},
          "execution_count": 8
        }
      ]
    },
    {
      "cell_type": "code",
      "source": [
        "X.dtypes"
      ],
      "metadata": {
        "colab": {
          "base_uri": "https://localhost:8080/"
        },
        "id": "Rl64gDDC-XOX",
        "outputId": "cb9ec852-6376-4fb2-985e-03ce287abca7"
      },
      "execution_count": 9,
      "outputs": [
        {
          "output_type": "execute_result",
          "data": {
            "text/plain": [
              "Fraud                            int64\n",
              "PolicyHolderOccupation           int64\n",
              "PolicyRecentlyTakenOrUpgraded    int64\n",
              "ClaimCause                       int64\n",
              "AgeGroup                         int64\n",
              "Sex                              int64\n",
              "LivingStatus                     int64\n",
              "ChargedForSpeedingViolation      int64\n",
              "DrivingExperience                int64\n",
              "PoliceReportFilled               int64\n",
              "dtype: object"
            ]
          },
          "metadata": {},
          "execution_count": 9
        }
      ]
    },
    {
      "cell_type": "code",
      "source": [
        "data1=data.drop([\"Fraud\",\"PolicyHolderOccupation\",\"PolicyRecentlyTakenOrUpgraded\",\"ClaimCause\",\"AgeGroup\",\"Sex\",\"LivingStatus\", \"ChargedForSpeedingViolation\", \"DrivingExperience\", \"PoliceReportFilled\"], axis=1)"
      ],
      "metadata": {
        "id": "clhZVEAB_gjE"
      },
      "execution_count": 10,
      "outputs": []
    },
    {
      "cell_type": "code",
      "source": [
        "fraud=pd.concat([X,data1],axis=1)\n",
        "fraud"
      ],
      "metadata": {
        "colab": {
          "base_uri": "https://localhost:8080/",
          "height": 443
        },
        "id": "tr5iIpDBGoCq",
        "outputId": "b0bf8ebe-27b2-4443-c39b-585e521f118c"
      },
      "execution_count": 11,
      "outputs": [
        {
          "output_type": "execute_result",
          "data": {
            "text/plain": [
              "        Fraud  PolicyHolderOccupation  PolicyRecentlyTakenOrUpgraded  \\\n",
              "0           0                       2                              0   \n",
              "1           0                      13                              1   \n",
              "2           0                       4                              0   \n",
              "3           0                      10                              0   \n",
              "4           1                       2                              0   \n",
              "...       ...                     ...                            ...   \n",
              "923851      0                       5                              0   \n",
              "923852      0                       5                              1   \n",
              "923853      0                       5                              0   \n",
              "923854      0                       6                              0   \n",
              "923855      0                       4                              1   \n",
              "\n",
              "        ClaimCause  AgeGroup  Sex  LivingStatus  ChargedForSpeedingViolation  \\\n",
              "0                6         2    1             0                            0   \n",
              "1                0         3    0             1                            0   \n",
              "2               12         1    1             1                            1   \n",
              "3                6         0    0             0                            0   \n",
              "4                0         1    1             1                            1   \n",
              "...            ...       ...  ...           ...                          ...   \n",
              "923851           1         3    1             1                            1   \n",
              "923852           8         0    1             0                            0   \n",
              "923853           9         0    1             1                            1   \n",
              "923854          12         3    0             1                            1   \n",
              "923855           6         1    0             0                            1   \n",
              "\n",
              "        DrivingExperience  PoliceReportFilled  InsuranceNoteSuspeciousLevel  \\\n",
              "0                       3                   0                             3   \n",
              "1                       2                   0                             4   \n",
              "2                       3                   0                             5   \n",
              "3                       3                   0                             5   \n",
              "4                       3                   0                             4   \n",
              "...                   ...                 ...                           ...   \n",
              "923851                  3                   0                             0   \n",
              "923852                  2                   0                             3   \n",
              "923853                  3                   0                             4   \n",
              "923854                  3                   0                             5   \n",
              "923855                  0                   0                             3   \n",
              "\n",
              "        ClaimAmount  ClaimsFrequency  SafetyRating  PolicyHolderIncome  \\\n",
              "0           1229.68                0             2              352314   \n",
              "1           9298.26                2             1              452377   \n",
              "2           2939.69                1             0              821368   \n",
              "3           6783.45                0             0              566697   \n",
              "4           6298.16                2             1              858536   \n",
              "...             ...              ...           ...                 ...   \n",
              "923851      3945.80                0             1              264909   \n",
              "923852      6436.06                1             1              163404   \n",
              "923853      1906.04                1             2              422508   \n",
              "923854      6882.08                1             0              203412   \n",
              "923855      9040.09                0             0              349522   \n",
              "\n",
              "        IncidentHourOfDay  witness  PastAccidents  \n",
              "0                       9        4              0  \n",
              "1                      17        0              1  \n",
              "2                      24        3              2  \n",
              "3                       3        0              4  \n",
              "4                       9        2              4  \n",
              "...                   ...      ...            ...  \n",
              "923851                 22        2              1  \n",
              "923852                  3        0              1  \n",
              "923853                 16        0              5  \n",
              "923854                  1        2              0  \n",
              "923855                 20        0              3  \n",
              "\n",
              "[923856 rows x 18 columns]"
            ],
            "text/html": [
              "\n",
              "  <div id=\"df-55401227-f097-494a-8a06-2d738c5f78ae\" class=\"colab-df-container\">\n",
              "    <div>\n",
              "<style scoped>\n",
              "    .dataframe tbody tr th:only-of-type {\n",
              "        vertical-align: middle;\n",
              "    }\n",
              "\n",
              "    .dataframe tbody tr th {\n",
              "        vertical-align: top;\n",
              "    }\n",
              "\n",
              "    .dataframe thead th {\n",
              "        text-align: right;\n",
              "    }\n",
              "</style>\n",
              "<table border=\"1\" class=\"dataframe\">\n",
              "  <thead>\n",
              "    <tr style=\"text-align: right;\">\n",
              "      <th></th>\n",
              "      <th>Fraud</th>\n",
              "      <th>PolicyHolderOccupation</th>\n",
              "      <th>PolicyRecentlyTakenOrUpgraded</th>\n",
              "      <th>ClaimCause</th>\n",
              "      <th>AgeGroup</th>\n",
              "      <th>Sex</th>\n",
              "      <th>LivingStatus</th>\n",
              "      <th>ChargedForSpeedingViolation</th>\n",
              "      <th>DrivingExperience</th>\n",
              "      <th>PoliceReportFilled</th>\n",
              "      <th>InsuranceNoteSuspeciousLevel</th>\n",
              "      <th>ClaimAmount</th>\n",
              "      <th>ClaimsFrequency</th>\n",
              "      <th>SafetyRating</th>\n",
              "      <th>PolicyHolderIncome</th>\n",
              "      <th>IncidentHourOfDay</th>\n",
              "      <th>witness</th>\n",
              "      <th>PastAccidents</th>\n",
              "    </tr>\n",
              "  </thead>\n",
              "  <tbody>\n",
              "    <tr>\n",
              "      <th>0</th>\n",
              "      <td>0</td>\n",
              "      <td>2</td>\n",
              "      <td>0</td>\n",
              "      <td>6</td>\n",
              "      <td>2</td>\n",
              "      <td>1</td>\n",
              "      <td>0</td>\n",
              "      <td>0</td>\n",
              "      <td>3</td>\n",
              "      <td>0</td>\n",
              "      <td>3</td>\n",
              "      <td>1229.68</td>\n",
              "      <td>0</td>\n",
              "      <td>2</td>\n",
              "      <td>352314</td>\n",
              "      <td>9</td>\n",
              "      <td>4</td>\n",
              "      <td>0</td>\n",
              "    </tr>\n",
              "    <tr>\n",
              "      <th>1</th>\n",
              "      <td>0</td>\n",
              "      <td>13</td>\n",
              "      <td>1</td>\n",
              "      <td>0</td>\n",
              "      <td>3</td>\n",
              "      <td>0</td>\n",
              "      <td>1</td>\n",
              "      <td>0</td>\n",
              "      <td>2</td>\n",
              "      <td>0</td>\n",
              "      <td>4</td>\n",
              "      <td>9298.26</td>\n",
              "      <td>2</td>\n",
              "      <td>1</td>\n",
              "      <td>452377</td>\n",
              "      <td>17</td>\n",
              "      <td>0</td>\n",
              "      <td>1</td>\n",
              "    </tr>\n",
              "    <tr>\n",
              "      <th>2</th>\n",
              "      <td>0</td>\n",
              "      <td>4</td>\n",
              "      <td>0</td>\n",
              "      <td>12</td>\n",
              "      <td>1</td>\n",
              "      <td>1</td>\n",
              "      <td>1</td>\n",
              "      <td>1</td>\n",
              "      <td>3</td>\n",
              "      <td>0</td>\n",
              "      <td>5</td>\n",
              "      <td>2939.69</td>\n",
              "      <td>1</td>\n",
              "      <td>0</td>\n",
              "      <td>821368</td>\n",
              "      <td>24</td>\n",
              "      <td>3</td>\n",
              "      <td>2</td>\n",
              "    </tr>\n",
              "    <tr>\n",
              "      <th>3</th>\n",
              "      <td>0</td>\n",
              "      <td>10</td>\n",
              "      <td>0</td>\n",
              "      <td>6</td>\n",
              "      <td>0</td>\n",
              "      <td>0</td>\n",
              "      <td>0</td>\n",
              "      <td>0</td>\n",
              "      <td>3</td>\n",
              "      <td>0</td>\n",
              "      <td>5</td>\n",
              "      <td>6783.45</td>\n",
              "      <td>0</td>\n",
              "      <td>0</td>\n",
              "      <td>566697</td>\n",
              "      <td>3</td>\n",
              "      <td>0</td>\n",
              "      <td>4</td>\n",
              "    </tr>\n",
              "    <tr>\n",
              "      <th>4</th>\n",
              "      <td>1</td>\n",
              "      <td>2</td>\n",
              "      <td>0</td>\n",
              "      <td>0</td>\n",
              "      <td>1</td>\n",
              "      <td>1</td>\n",
              "      <td>1</td>\n",
              "      <td>1</td>\n",
              "      <td>3</td>\n",
              "      <td>0</td>\n",
              "      <td>4</td>\n",
              "      <td>6298.16</td>\n",
              "      <td>2</td>\n",
              "      <td>1</td>\n",
              "      <td>858536</td>\n",
              "      <td>9</td>\n",
              "      <td>2</td>\n",
              "      <td>4</td>\n",
              "    </tr>\n",
              "    <tr>\n",
              "      <th>...</th>\n",
              "      <td>...</td>\n",
              "      <td>...</td>\n",
              "      <td>...</td>\n",
              "      <td>...</td>\n",
              "      <td>...</td>\n",
              "      <td>...</td>\n",
              "      <td>...</td>\n",
              "      <td>...</td>\n",
              "      <td>...</td>\n",
              "      <td>...</td>\n",
              "      <td>...</td>\n",
              "      <td>...</td>\n",
              "      <td>...</td>\n",
              "      <td>...</td>\n",
              "      <td>...</td>\n",
              "      <td>...</td>\n",
              "      <td>...</td>\n",
              "      <td>...</td>\n",
              "    </tr>\n",
              "    <tr>\n",
              "      <th>923851</th>\n",
              "      <td>0</td>\n",
              "      <td>5</td>\n",
              "      <td>0</td>\n",
              "      <td>1</td>\n",
              "      <td>3</td>\n",
              "      <td>1</td>\n",
              "      <td>1</td>\n",
              "      <td>1</td>\n",
              "      <td>3</td>\n",
              "      <td>0</td>\n",
              "      <td>0</td>\n",
              "      <td>3945.80</td>\n",
              "      <td>0</td>\n",
              "      <td>1</td>\n",
              "      <td>264909</td>\n",
              "      <td>22</td>\n",
              "      <td>2</td>\n",
              "      <td>1</td>\n",
              "    </tr>\n",
              "    <tr>\n",
              "      <th>923852</th>\n",
              "      <td>0</td>\n",
              "      <td>5</td>\n",
              "      <td>1</td>\n",
              "      <td>8</td>\n",
              "      <td>0</td>\n",
              "      <td>1</td>\n",
              "      <td>0</td>\n",
              "      <td>0</td>\n",
              "      <td>2</td>\n",
              "      <td>0</td>\n",
              "      <td>3</td>\n",
              "      <td>6436.06</td>\n",
              "      <td>1</td>\n",
              "      <td>1</td>\n",
              "      <td>163404</td>\n",
              "      <td>3</td>\n",
              "      <td>0</td>\n",
              "      <td>1</td>\n",
              "    </tr>\n",
              "    <tr>\n",
              "      <th>923853</th>\n",
              "      <td>0</td>\n",
              "      <td>5</td>\n",
              "      <td>0</td>\n",
              "      <td>9</td>\n",
              "      <td>0</td>\n",
              "      <td>1</td>\n",
              "      <td>1</td>\n",
              "      <td>1</td>\n",
              "      <td>3</td>\n",
              "      <td>0</td>\n",
              "      <td>4</td>\n",
              "      <td>1906.04</td>\n",
              "      <td>1</td>\n",
              "      <td>2</td>\n",
              "      <td>422508</td>\n",
              "      <td>16</td>\n",
              "      <td>0</td>\n",
              "      <td>5</td>\n",
              "    </tr>\n",
              "    <tr>\n",
              "      <th>923854</th>\n",
              "      <td>0</td>\n",
              "      <td>6</td>\n",
              "      <td>0</td>\n",
              "      <td>12</td>\n",
              "      <td>3</td>\n",
              "      <td>0</td>\n",
              "      <td>1</td>\n",
              "      <td>1</td>\n",
              "      <td>3</td>\n",
              "      <td>0</td>\n",
              "      <td>5</td>\n",
              "      <td>6882.08</td>\n",
              "      <td>1</td>\n",
              "      <td>0</td>\n",
              "      <td>203412</td>\n",
              "      <td>1</td>\n",
              "      <td>2</td>\n",
              "      <td>0</td>\n",
              "    </tr>\n",
              "    <tr>\n",
              "      <th>923855</th>\n",
              "      <td>0</td>\n",
              "      <td>4</td>\n",
              "      <td>1</td>\n",
              "      <td>6</td>\n",
              "      <td>1</td>\n",
              "      <td>0</td>\n",
              "      <td>0</td>\n",
              "      <td>1</td>\n",
              "      <td>0</td>\n",
              "      <td>0</td>\n",
              "      <td>3</td>\n",
              "      <td>9040.09</td>\n",
              "      <td>0</td>\n",
              "      <td>0</td>\n",
              "      <td>349522</td>\n",
              "      <td>20</td>\n",
              "      <td>0</td>\n",
              "      <td>3</td>\n",
              "    </tr>\n",
              "  </tbody>\n",
              "</table>\n",
              "<p>923856 rows × 18 columns</p>\n",
              "</div>\n",
              "    <div class=\"colab-df-buttons\">\n",
              "\n",
              "  <div class=\"colab-df-container\">\n",
              "    <button class=\"colab-df-convert\" onclick=\"convertToInteractive('df-55401227-f097-494a-8a06-2d738c5f78ae')\"\n",
              "            title=\"Convert this dataframe to an interactive table.\"\n",
              "            style=\"display:none;\">\n",
              "\n",
              "  <svg xmlns=\"http://www.w3.org/2000/svg\" height=\"24px\" viewBox=\"0 -960 960 960\">\n",
              "    <path d=\"M120-120v-720h720v720H120Zm60-500h600v-160H180v160Zm220 220h160v-160H400v160Zm0 220h160v-160H400v160ZM180-400h160v-160H180v160Zm440 0h160v-160H620v160ZM180-180h160v-160H180v160Zm440 0h160v-160H620v160Z\"/>\n",
              "  </svg>\n",
              "    </button>\n",
              "\n",
              "  <style>\n",
              "    .colab-df-container {\n",
              "      display:flex;\n",
              "      gap: 12px;\n",
              "    }\n",
              "\n",
              "    .colab-df-convert {\n",
              "      background-color: #E8F0FE;\n",
              "      border: none;\n",
              "      border-radius: 50%;\n",
              "      cursor: pointer;\n",
              "      display: none;\n",
              "      fill: #1967D2;\n",
              "      height: 32px;\n",
              "      padding: 0 0 0 0;\n",
              "      width: 32px;\n",
              "    }\n",
              "\n",
              "    .colab-df-convert:hover {\n",
              "      background-color: #E2EBFA;\n",
              "      box-shadow: 0px 1px 2px rgba(60, 64, 67, 0.3), 0px 1px 3px 1px rgba(60, 64, 67, 0.15);\n",
              "      fill: #174EA6;\n",
              "    }\n",
              "\n",
              "    .colab-df-buttons div {\n",
              "      margin-bottom: 4px;\n",
              "    }\n",
              "\n",
              "    [theme=dark] .colab-df-convert {\n",
              "      background-color: #3B4455;\n",
              "      fill: #D2E3FC;\n",
              "    }\n",
              "\n",
              "    [theme=dark] .colab-df-convert:hover {\n",
              "      background-color: #434B5C;\n",
              "      box-shadow: 0px 1px 3px 1px rgba(0, 0, 0, 0.15);\n",
              "      filter: drop-shadow(0px 1px 2px rgba(0, 0, 0, 0.3));\n",
              "      fill: #FFFFFF;\n",
              "    }\n",
              "  </style>\n",
              "\n",
              "    <script>\n",
              "      const buttonEl =\n",
              "        document.querySelector('#df-55401227-f097-494a-8a06-2d738c5f78ae button.colab-df-convert');\n",
              "      buttonEl.style.display =\n",
              "        google.colab.kernel.accessAllowed ? 'block' : 'none';\n",
              "\n",
              "      async function convertToInteractive(key) {\n",
              "        const element = document.querySelector('#df-55401227-f097-494a-8a06-2d738c5f78ae');\n",
              "        const dataTable =\n",
              "          await google.colab.kernel.invokeFunction('convertToInteractive',\n",
              "                                                    [key], {});\n",
              "        if (!dataTable) return;\n",
              "\n",
              "        const docLinkHtml = 'Like what you see? Visit the ' +\n",
              "          '<a target=\"_blank\" href=https://colab.research.google.com/notebooks/data_table.ipynb>data table notebook</a>'\n",
              "          + ' to learn more about interactive tables.';\n",
              "        element.innerHTML = '';\n",
              "        dataTable['output_type'] = 'display_data';\n",
              "        await google.colab.output.renderOutput(dataTable, element);\n",
              "        const docLink = document.createElement('div');\n",
              "        docLink.innerHTML = docLinkHtml;\n",
              "        element.appendChild(docLink);\n",
              "      }\n",
              "    </script>\n",
              "  </div>\n",
              "\n",
              "\n",
              "<div id=\"df-21528eb0-94fa-4468-b5a0-5d9ff3825ed3\">\n",
              "  <button class=\"colab-df-quickchart\" onclick=\"quickchart('df-21528eb0-94fa-4468-b5a0-5d9ff3825ed3')\"\n",
              "            title=\"Suggest charts.\"\n",
              "            style=\"display:none;\">\n",
              "\n",
              "<svg xmlns=\"http://www.w3.org/2000/svg\" height=\"24px\"viewBox=\"0 0 24 24\"\n",
              "     width=\"24px\">\n",
              "    <g>\n",
              "        <path d=\"M19 3H5c-1.1 0-2 .9-2 2v14c0 1.1.9 2 2 2h14c1.1 0 2-.9 2-2V5c0-1.1-.9-2-2-2zM9 17H7v-7h2v7zm4 0h-2V7h2v10zm4 0h-2v-4h2v4z\"/>\n",
              "    </g>\n",
              "</svg>\n",
              "  </button>\n",
              "\n",
              "<style>\n",
              "  .colab-df-quickchart {\n",
              "    background-color: #E8F0FE;\n",
              "    border: none;\n",
              "    border-radius: 50%;\n",
              "    cursor: pointer;\n",
              "    display: none;\n",
              "    fill: #1967D2;\n",
              "    height: 32px;\n",
              "    padding: 0 0 0 0;\n",
              "    width: 32px;\n",
              "  }\n",
              "\n",
              "  .colab-df-quickchart:hover {\n",
              "    background-color: #E2EBFA;\n",
              "    box-shadow: 0px 1px 2px rgba(60, 64, 67, 0.3), 0px 1px 3px 1px rgba(60, 64, 67, 0.15);\n",
              "    fill: #174EA6;\n",
              "  }\n",
              "\n",
              "  [theme=dark] .colab-df-quickchart {\n",
              "    background-color: #3B4455;\n",
              "    fill: #D2E3FC;\n",
              "  }\n",
              "\n",
              "  [theme=dark] .colab-df-quickchart:hover {\n",
              "    background-color: #434B5C;\n",
              "    box-shadow: 0px 1px 3px 1px rgba(0, 0, 0, 0.15);\n",
              "    filter: drop-shadow(0px 1px 2px rgba(0, 0, 0, 0.3));\n",
              "    fill: #FFFFFF;\n",
              "  }\n",
              "</style>\n",
              "\n",
              "  <script>\n",
              "    async function quickchart(key) {\n",
              "      const charts = await google.colab.kernel.invokeFunction(\n",
              "          'suggestCharts', [key], {});\n",
              "    }\n",
              "    (() => {\n",
              "      let quickchartButtonEl =\n",
              "        document.querySelector('#df-21528eb0-94fa-4468-b5a0-5d9ff3825ed3 button');\n",
              "      quickchartButtonEl.style.display =\n",
              "        google.colab.kernel.accessAllowed ? 'block' : 'none';\n",
              "    })();\n",
              "  </script>\n",
              "</div>\n",
              "    </div>\n",
              "  </div>\n"
            ]
          },
          "metadata": {},
          "execution_count": 11
        }
      ]
    },
    {
      "cell_type": "code",
      "source": [
        "fraud.shape"
      ],
      "metadata": {
        "colab": {
          "base_uri": "https://localhost:8080/"
        },
        "id": "ciEOKGZsGw68",
        "outputId": "a166ce59-f8af-4f69-d66a-be0ff21406f6"
      },
      "execution_count": 12,
      "outputs": [
        {
          "output_type": "execute_result",
          "data": {
            "text/plain": [
              "(923856, 18)"
            ]
          },
          "metadata": {},
          "execution_count": 12
        }
      ]
    },
    {
      "cell_type": "code",
      "source": [
        "fraud.isnull().sum()"
      ],
      "metadata": {
        "colab": {
          "base_uri": "https://localhost:8080/"
        },
        "id": "YVt9EBE2qYiQ",
        "outputId": "5a553980-524f-4b7e-b7bf-7d510bebd94a"
      },
      "execution_count": 13,
      "outputs": [
        {
          "output_type": "execute_result",
          "data": {
            "text/plain": [
              "Fraud                            0\n",
              "PolicyHolderOccupation           0\n",
              "PolicyRecentlyTakenOrUpgraded    0\n",
              "ClaimCause                       0\n",
              "AgeGroup                         0\n",
              "Sex                              0\n",
              "LivingStatus                     0\n",
              "ChargedForSpeedingViolation      0\n",
              "DrivingExperience                0\n",
              "PoliceReportFilled               0\n",
              "InsuranceNoteSuspeciousLevel     0\n",
              "ClaimAmount                      0\n",
              "ClaimsFrequency                  0\n",
              "SafetyRating                     0\n",
              "PolicyHolderIncome               0\n",
              "IncidentHourOfDay                0\n",
              "witness                          0\n",
              "PastAccidents                    0\n",
              "dtype: int64"
            ]
          },
          "metadata": {},
          "execution_count": 13
        }
      ]
    },
    {
      "cell_type": "code",
      "source": [
        "x = fraud.drop(['Fraud'],axis = 1)# independent features\n",
        "y = fraud['Fraud']# dependent feature"
      ],
      "metadata": {
        "id": "3bzvmMPGiwxX"
      },
      "execution_count": 14,
      "outputs": []
    },
    {
      "cell_type": "code",
      "source": [
        "#Feature Importance:\n",
        "from sklearn.ensemble import ExtraTreesClassifier\n",
        "import matplotlib.pyplot as plt"
      ],
      "metadata": {
        "id": "kUPgDtmIjqcC"
      },
      "execution_count": 15,
      "outputs": []
    },
    {
      "cell_type": "code",
      "source": [
        "model = ExtraTreesClassifier()\n",
        "model.fit(x,y)"
      ],
      "metadata": {
        "colab": {
          "base_uri": "https://localhost:8080/",
          "height": 74
        },
        "id": "Mq1Ts9ESBdot",
        "outputId": "5728b849-6b49-4764-86ce-43b6d939ed7f"
      },
      "execution_count": 16,
      "outputs": [
        {
          "output_type": "execute_result",
          "data": {
            "text/plain": [
              "ExtraTreesClassifier()"
            ],
            "text/html": [
              "<style>#sk-container-id-1 {color: black;background-color: white;}#sk-container-id-1 pre{padding: 0;}#sk-container-id-1 div.sk-toggleable {background-color: white;}#sk-container-id-1 label.sk-toggleable__label {cursor: pointer;display: block;width: 100%;margin-bottom: 0;padding: 0.3em;box-sizing: border-box;text-align: center;}#sk-container-id-1 label.sk-toggleable__label-arrow:before {content: \"▸\";float: left;margin-right: 0.25em;color: #696969;}#sk-container-id-1 label.sk-toggleable__label-arrow:hover:before {color: black;}#sk-container-id-1 div.sk-estimator:hover label.sk-toggleable__label-arrow:before {color: black;}#sk-container-id-1 div.sk-toggleable__content {max-height: 0;max-width: 0;overflow: hidden;text-align: left;background-color: #f0f8ff;}#sk-container-id-1 div.sk-toggleable__content pre {margin: 0.2em;color: black;border-radius: 0.25em;background-color: #f0f8ff;}#sk-container-id-1 input.sk-toggleable__control:checked~div.sk-toggleable__content {max-height: 200px;max-width: 100%;overflow: auto;}#sk-container-id-1 input.sk-toggleable__control:checked~label.sk-toggleable__label-arrow:before {content: \"▾\";}#sk-container-id-1 div.sk-estimator input.sk-toggleable__control:checked~label.sk-toggleable__label {background-color: #d4ebff;}#sk-container-id-1 div.sk-label input.sk-toggleable__control:checked~label.sk-toggleable__label {background-color: #d4ebff;}#sk-container-id-1 input.sk-hidden--visually {border: 0;clip: rect(1px 1px 1px 1px);clip: rect(1px, 1px, 1px, 1px);height: 1px;margin: -1px;overflow: hidden;padding: 0;position: absolute;width: 1px;}#sk-container-id-1 div.sk-estimator {font-family: monospace;background-color: #f0f8ff;border: 1px dotted black;border-radius: 0.25em;box-sizing: border-box;margin-bottom: 0.5em;}#sk-container-id-1 div.sk-estimator:hover {background-color: #d4ebff;}#sk-container-id-1 div.sk-parallel-item::after {content: \"\";width: 100%;border-bottom: 1px solid gray;flex-grow: 1;}#sk-container-id-1 div.sk-label:hover label.sk-toggleable__label {background-color: #d4ebff;}#sk-container-id-1 div.sk-serial::before {content: \"\";position: absolute;border-left: 1px solid gray;box-sizing: border-box;top: 0;bottom: 0;left: 50%;z-index: 0;}#sk-container-id-1 div.sk-serial {display: flex;flex-direction: column;align-items: center;background-color: white;padding-right: 0.2em;padding-left: 0.2em;position: relative;}#sk-container-id-1 div.sk-item {position: relative;z-index: 1;}#sk-container-id-1 div.sk-parallel {display: flex;align-items: stretch;justify-content: center;background-color: white;position: relative;}#sk-container-id-1 div.sk-item::before, #sk-container-id-1 div.sk-parallel-item::before {content: \"\";position: absolute;border-left: 1px solid gray;box-sizing: border-box;top: 0;bottom: 0;left: 50%;z-index: -1;}#sk-container-id-1 div.sk-parallel-item {display: flex;flex-direction: column;z-index: 1;position: relative;background-color: white;}#sk-container-id-1 div.sk-parallel-item:first-child::after {align-self: flex-end;width: 50%;}#sk-container-id-1 div.sk-parallel-item:last-child::after {align-self: flex-start;width: 50%;}#sk-container-id-1 div.sk-parallel-item:only-child::after {width: 0;}#sk-container-id-1 div.sk-dashed-wrapped {border: 1px dashed gray;margin: 0 0.4em 0.5em 0.4em;box-sizing: border-box;padding-bottom: 0.4em;background-color: white;}#sk-container-id-1 div.sk-label label {font-family: monospace;font-weight: bold;display: inline-block;line-height: 1.2em;}#sk-container-id-1 div.sk-label-container {text-align: center;}#sk-container-id-1 div.sk-container {/* jupyter's `normalize.less` sets `[hidden] { display: none; }` but bootstrap.min.css set `[hidden] { display: none !important; }` so we also need the `!important` here to be able to override the default hidden behavior on the sphinx rendered scikit-learn.org. See: https://github.com/scikit-learn/scikit-learn/issues/21755 */display: inline-block !important;position: relative;}#sk-container-id-1 div.sk-text-repr-fallback {display: none;}</style><div id=\"sk-container-id-1\" class=\"sk-top-container\"><div class=\"sk-text-repr-fallback\"><pre>ExtraTreesClassifier()</pre><b>In a Jupyter environment, please rerun this cell to show the HTML representation or trust the notebook. <br />On GitHub, the HTML representation is unable to render, please try loading this page with nbviewer.org.</b></div><div class=\"sk-container\" hidden><div class=\"sk-item\"><div class=\"sk-estimator sk-toggleable\"><input class=\"sk-toggleable__control sk-hidden--visually\" id=\"sk-estimator-id-1\" type=\"checkbox\" checked><label for=\"sk-estimator-id-1\" class=\"sk-toggleable__label sk-toggleable__label-arrow\">ExtraTreesClassifier</label><div class=\"sk-toggleable__content\"><pre>ExtraTreesClassifier()</pre></div></div></div></div></div>"
            ]
          },
          "metadata": {},
          "execution_count": 16
        }
      ]
    },
    {
      "cell_type": "code",
      "source": [
        "print(model.feature_importances_)"
      ],
      "metadata": {
        "colab": {
          "base_uri": "https://localhost:8080/"
        },
        "id": "rPQ54Lx9BgHe",
        "outputId": "9f8190fb-f16c-4a54-faab-aab0d18b66c4"
      },
      "execution_count": 17,
      "outputs": [
        {
          "output_type": "stream",
          "name": "stdout",
          "text": [
            "[0.06704486 0.00788386 0.05526426 0.04732839 0.01531632 0.01345383\n",
            " 0.01740882 0.0391544  0.01043156 0.04506876 0.12526497 0.03345047\n",
            " 0.26323735 0.07902018 0.07161525 0.05512565 0.05393106]\n"
          ]
        }
      ]
    },
    {
      "cell_type": "code",
      "source": [
        "#plot graph of feature importances for better visualization\n",
        "feat_importances = pd.Series(model.feature_importances_, index=x.columns)\n",
        "plt.figure(figsize=(10,12))\n",
        "feat_importances.nlargest(20).plot(kind='barh')\n",
        "plt.show()"
      ],
      "metadata": {
        "colab": {
          "base_uri": "https://localhost:8080/",
          "height": 984
        },
        "id": "bnaqIRHLBhnz",
        "outputId": "bba1c747-892f-43e2-cfad-a58fbf35b93b"
      },
      "execution_count": 18,
      "outputs": [
        {
          "output_type": "display_data",
          "data": {
            "text/plain": [
              "<Figure size 1000x1200 with 1 Axes>"
            ],
            "image/png": "[encoded data removed]"
          },
          "metadata": {}
        }
      ]
    },
    {
      "cell_type": "code",
      "source": [
        "X=x.drop(['LivingStatus', 'Sex'],axis=1)"
      ],
      "metadata": {
        "id": "xcMMySxHBj01"
      },
      "execution_count": 19,
      "outputs": []
    },
    {
      "cell_type": "code",
      "source": [
        "y.value_counts(normalize=True)"
      ],
      "metadata": {
        "colab": {
          "base_uri": "https://localhost:8080/"
        },
        "id": "7QQXD_6YCtAm",
        "outputId": "d80808d8-ffc1-4076-acc7-47f7675f93d0"
      },
      "execution_count": 20,
      "outputs": [
        {
          "output_type": "execute_result",
          "data": {
            "text/plain": [
              "0    0.841042\n",
              "1    0.158958\n",
              "Name: Fraud, dtype: float64"
            ]
          },
          "metadata": {},
          "execution_count": 20
        }
      ]
    },
    {
      "cell_type": "code",
      "source": [
        "from sklearn.model_selection import train_test_split\n",
        "X_train,X_test,y_train,y_test=train_test_split(X,y,test_size=0.33,random_state=None)"
      ],
      "metadata": {
        "id": "WwLAVjGpCynY"
      },
      "execution_count": 21,
      "outputs": []
    },
    {
      "cell_type": "code",
      "source": [
        "from collections import Counter\n",
        "Counter(y_train)"
      ],
      "metadata": {
        "colab": {
          "base_uri": "https://localhost:8080/"
        },
        "id": "Jvhz-xD5C079",
        "outputId": "f5b1669b-931f-45d1-d08a-cec80ba52e39"
      },
      "execution_count": 22,
      "outputs": [
        {
          "output_type": "execute_result",
          "data": {
            "text/plain": [
              "Counter({0: 520507, 1: 98476})"
            ]
          },
          "metadata": {},
          "execution_count": 22
        }
      ]
    },
    {
      "cell_type": "code",
      "source": [
        "from imblearn.over_sampling import RandomOverSampler, SMOTE\n",
        "smote = SMOTE(random_state=50)\n",
        "print(\"The number of classes before fit {}\".format(Counter(y_train)))\n",
        "train_df_smote, y_smote = smote.fit_resample(X_train, y_train)\n",
        "\n",
        "X_train = train_df_smote\n",
        "y_train = y_smote\n",
        "\n",
        "y_train_org = np.argmax(y_train, axis=-1)\n",
        "\n",
        "\n",
        "print(\"The number of classes after fit {}\".format(Counter(y_train)))"
      ],
      "metadata": {
        "colab": {
          "base_uri": "https://localhost:8080/"
        },
        "id": "qkacp60XC4ZN",
        "outputId": "b482d632-c7cd-492c-f6e6-caca32fd3dbe"
      },
      "execution_count": 23,
      "outputs": [
        {
          "output_type": "stream",
          "name": "stdout",
          "text": [
            "The number of classes before fit Counter({0: 520507, 1: 98476})\n",
            "The number of classes after fit Counter({0: 520507, 1: 520507})\n"
          ]
        }
      ]
    },
    {
      "cell_type": "code",
      "source": [
        "print(\"The number of classes before fit {}\".format(Counter(y_test)))\n",
        "test_df_smote, y_smote = smote.fit_resample(X_test, y_test)\n",
        "\n",
        "X_test = test_df_smote\n",
        "y_test = y_smote\n",
        "\n",
        "y_test_org = np.argmax(y_test, axis=-1)\n",
        "\n",
        "\n",
        "print(\"The number of classes after fit {}\".format(Counter(y_test)))"
      ],
      "metadata": {
        "colab": {
          "base_uri": "https://localhost:8080/"
        },
        "id": "SrBpR0pjC_UR",
        "outputId": "a6d4eef6-32cc-4f34-ba77-799cef5bd520"
      },
      "execution_count": 24,
      "outputs": [
        {
          "output_type": "stream",
          "name": "stdout",
          "text": [
            "The number of classes before fit Counter({0: 256495, 1: 48378})\n",
            "The number of classes after fit Counter({0: 256495, 1: 256495})\n"
          ]
        }
      ]
    },
    {
      "cell_type": "code",
      "source": [
        "result_df = {\n",
        "    \"model\":[],\n",
        "    \"training_score\" :[],\n",
        "    \"testing_score\": []\n",
        "}\n",
        "\n",
        "def modify_result(model, trainSc, testSc):\n",
        "    result_df[\"model\"].append(model)\n",
        "    result_df[\"training_score\"].append(trainSc)\n",
        "    result_df[\"testing_score\"].append(testSc)"
      ],
      "metadata": {
        "id": "CGjHtQ7KDCRp"
      },
      "execution_count": 25,
      "outputs": []
    },
    {
      "cell_type": "code",
      "source": [
        "from sklearn.ensemble import RandomForestClassifier\n",
        "classifier=RandomForestClassifier(n_estimators=20,max_features=8,min_samples_leaf=6,min_samples_split=5,n_jobs=-1)\n",
        "classifier.fit(X_train,y_train)"
      ],
      "metadata": {
        "colab": {
          "base_uri": "https://localhost:8080/",
          "height": 92
        },
        "id": "Z28qfoo6DHAB",
        "outputId": "3fe70910-8cb4-4a3c-edba-1b903f77fa06"
      },
      "execution_count": 26,
      "outputs": [
        {
          "output_type": "execute_result",
          "data": {
            "text/plain": [
              "RandomForestClassifier(max_features=8, min_samples_leaf=6, min_samples_split=5,\n",
              "                       n_estimators=20, n_jobs=-1)"
            ],
            "text/html": [
              "<style>#sk-container-id-2 {color: black;background-color: white;}#sk-container-id-2 pre{padding: 0;}#sk-container-id-2 div.sk-toggleable {background-color: white;}#sk-container-id-2 label.sk-toggleable__label {cursor: pointer;display: block;width: 100%;margin-bottom: 0;padding: 0.3em;box-sizing: border-box;text-align: center;}#sk-container-id-2 label.sk-toggleable__label-arrow:before {content: \"▸\";float: left;margin-right: 0.25em;color: #696969;}#sk-container-id-2 label.sk-toggleable__label-arrow:hover:before {color: black;}#sk-container-id-2 div.sk-estimator:hover label.sk-toggleable__label-arrow:before {color: black;}#sk-container-id-2 div.sk-toggleable__content {max-height: 0;max-width: 0;overflow: hidden;text-align: left;background-color: #f0f8ff;}#sk-container-id-2 div.sk-toggleable__content pre {margin: 0.2em;color: black;border-radius: 0.25em;background-color: #f0f8ff;}#sk-container-id-2 input.sk-toggleable__control:checked~div.sk-toggleable__content {max-height: 200px;max-width: 100%;overflow: auto;}#sk-container-id-2 input.sk-toggleable__control:checked~label.sk-toggleable__label-arrow:before {content: \"▾\";}#sk-container-id-2 div.sk-estimator input.sk-toggleable__control:checked~label.sk-toggleable__label {background-color: #d4ebff;}#sk-container-id-2 div.sk-label input.sk-toggleable__control:checked~label.sk-toggleable__label {background-color: #d4ebff;}#sk-container-id-2 input.sk-hidden--visually {border: 0;clip: rect(1px 1px 1px 1px);clip: rect(1px, 1px, 1px, 1px);height: 1px;margin: -1px;overflow: hidden;padding: 0;position: absolute;width: 1px;}#sk-container-id-2 div.sk-estimator {font-family: monospace;background-color: #f0f8ff;border: 1px dotted black;border-radius: 0.25em;box-sizing: border-box;margin-bottom: 0.5em;}#sk-container-id-2 div.sk-estimator:hover {background-color: #d4ebff;}#sk-container-id-2 div.sk-parallel-item::after {content: \"\";width: 100%;border-bottom: 1px solid gray;flex-grow: 1;}#sk-container-id-2 div.sk-label:hover label.sk-toggleable__label {background-color: #d4ebff;}#sk-container-id-2 div.sk-serial::before {content: \"\";position: absolute;border-left: 1px solid gray;box-sizing: border-box;top: 0;bottom: 0;left: 50%;z-index: 0;}#sk-container-id-2 div.sk-serial {display: flex;flex-direction: column;align-items: center;background-color: white;padding-right: 0.2em;padding-left: 0.2em;position: relative;}#sk-container-id-2 div.sk-item {position: relative;z-index: 1;}#sk-container-id-2 div.sk-parallel {display: flex;align-items: stretch;justify-content: center;background-color: white;position: relative;}#sk-container-id-2 div.sk-item::before, #sk-container-id-2 div.sk-parallel-item::before {content: \"\";position: absolute;border-left: 1px solid gray;box-sizing: border-box;top: 0;bottom: 0;left: 50%;z-index: -1;}#sk-container-id-2 div.sk-parallel-item {display: flex;flex-direction: column;z-index: 1;position: relative;background-color: white;}#sk-container-id-2 div.sk-parallel-item:first-child::after {align-self: flex-end;width: 50%;}#sk-container-id-2 div.sk-parallel-item:last-child::after {align-self: flex-start;width: 50%;}#sk-container-id-2 div.sk-parallel-item:only-child::after {width: 0;}#sk-container-id-2 div.sk-dashed-wrapped {border: 1px dashed gray;margin: 0 0.4em 0.5em 0.4em;box-sizing: border-box;padding-bottom: 0.4em;background-color: white;}#sk-container-id-2 div.sk-label label {font-family: monospace;font-weight: bold;display: inline-block;line-height: 1.2em;}#sk-container-id-2 div.sk-label-container {text-align: center;}#sk-container-id-2 div.sk-container {/* jupyter's `normalize.less` sets `[hidden] { display: none; }` but bootstrap.min.css set `[hidden] { display: none !important; }` so we also need the `!important` here to be able to override the default hidden behavior on the sphinx rendered scikit-learn.org. See: https://github.com/scikit-learn/scikit-learn/issues/21755 */display: inline-block !important;position: relative;}#sk-container-id-2 div.sk-text-repr-fallback {display: none;}</style><div id=\"sk-container-id-2\" class=\"sk-top-container\"><div class=\"sk-text-repr-fallback\"><pre>RandomForestClassifier(max_features=8, min_samples_leaf=6, min_samples_split=5,\n",
              "                       n_estimators=20, n_jobs=-1)</pre><b>In a Jupyter environment, please rerun this cell to show the HTML representation or trust the notebook. <br />On GitHub, the HTML representation is unable to render, please try loading this page with nbviewer.org.</b></div><div class=\"sk-container\" hidden><div class=\"sk-item\"><div class=\"sk-estimator sk-toggleable\"><input class=\"sk-toggleable__control sk-hidden--visually\" id=\"sk-estimator-id-2\" type=\"checkbox\" checked><label for=\"sk-estimator-id-2\" class=\"sk-toggleable__label sk-toggleable__label-arrow\">RandomForestClassifier</label><div class=\"sk-toggleable__content\"><pre>RandomForestClassifier(max_features=8, min_samples_leaf=6, min_samples_split=5,\n",
              "                       n_estimators=20, n_jobs=-1)</pre></div></div></div></div></div>"
            ]
          },
          "metadata": {},
          "execution_count": 26
        }
      ]
    },
    {
      "cell_type": "code",
      "source": [
        "from sklearn.metrics import roc_curve\n",
        "from sklearn.metrics import roc_auc_score\n",
        "from sklearn.metrics import accuracy_score,classification_report,confusion_matrix"
      ],
      "metadata": {
        "id": "YrBOEE-uDI7c"
      },
      "execution_count": 27,
      "outputs": []
    },
    {
      "cell_type": "code",
      "source": [
        "y_pred = classifier.predict(X_test)\n",
        "ytrain_pred =classifier.predict_proba(X_train)\n",
        "ytest_pred = classifier.predict_proba(X_test)\n",
        "print(\"Training Score: {}\".format(roc_auc_score(y_train, ytrain_pred[:,1])))\n",
        "print(\"Testing Score:{}\". format(roc_auc_score(y_test, ytest_pred[:,1])))\n",
        "modify_result(\"Random forest classifier\",\n",
        "             accuracy_score(classifier.predict(X_train), y_train),\n",
        "             accuracy_score(y_test,y_pred))"
      ],
      "metadata": {
        "colab": {
          "base_uri": "https://localhost:8080/"
        },
        "id": "LtEhXc8uL8yh",
        "outputId": "ea724664-d9cc-44c7-8035-98514dca842d"
      },
      "execution_count": 28,
      "outputs": [
        {
          "output_type": "stream",
          "name": "stdout",
          "text": [
            "Training Score: 0.978329348277218\n",
            "Testing Score:0.9074229416786905\n"
          ]
        }
      ]
    },
    {
      "cell_type": "code",
      "source": [
        "y_pred=classifier.predict(X_train)\n",
        "print(confusion_matrix(y_train,y_pred))\n",
        "print(accuracy_score(y_train,y_pred))\n",
        "print(classification_report(y_train,y_pred))"
      ],
      "metadata": {
        "colab": {
          "base_uri": "https://localhost:8080/"
        },
        "id": "E1coC7DfL9l3",
        "outputId": "7a0a0c39-8939-4fda-d0a3-6e2ef441794b"
      },
      "execution_count": 29,
      "outputs": [
        {
          "output_type": "stream",
          "name": "stdout",
          "text": [
            "[[482761  37746]\n",
            " [ 54338 466169]]\n",
            "0.9115439369691474\n",
            "              precision    recall  f1-score   support\n",
            "\n",
            "           0       0.90      0.93      0.91    520507\n",
            "           1       0.93      0.90      0.91    520507\n",
            "\n",
            "    accuracy                           0.91   1041014\n",
            "   macro avg       0.91      0.91      0.91   1041014\n",
            "weighted avg       0.91      0.91      0.91   1041014\n",
            "\n"
          ]
        }
      ]
    },
    {
      "cell_type": "code",
      "source": [
        "y_pred=classifier.predict(X_test)\n",
        "print(confusion_matrix(y_test,y_pred))\n",
        "print(accuracy_score(y_test,y_pred))\n",
        "print(classification_report(y_test,y_pred))"
      ],
      "metadata": {
        "colab": {
          "base_uri": "https://localhost:8080/"
        },
        "id": "S7gZwCOoL_ne",
        "outputId": "d33bd28a-7513-4230-e088-2871b4022331"
      },
      "execution_count": 30,
      "outputs": [
        {
          "output_type": "stream",
          "name": "stdout",
          "text": [
            "[[221440  35055]\n",
            " [ 52612 203883]]\n",
            "0.8291058305230121\n",
            "              precision    recall  f1-score   support\n",
            "\n",
            "           0       0.81      0.86      0.83    256495\n",
            "           1       0.85      0.79      0.82    256495\n",
            "\n",
            "    accuracy                           0.83    512990\n",
            "   macro avg       0.83      0.83      0.83    512990\n",
            "weighted avg       0.83      0.83      0.83    512990\n",
            "\n"
          ]
        }
      ]
    },
    {
      "cell_type": "code",
      "source": [
        "# import xgboost\n",
        "# from xgboost import XGBClassifier\n",
        "# clf =XGBClassifier(base_score=0.5, booster='dart', colsample_bylevel=1,\n",
        "#               colsample_bynode=1, colsample_bytree=1, gamma=0,eval_metric='auc',\n",
        "#               learning_rate=0.1, max_delta_step=0, max_depth=3,\n",
        "#               min_child_weight=0, missing=None, n_estimators=30, n_jobs=1,\n",
        "#               nthread=None, objective='binary:logistic', random_state=10,\n",
        "#               reg_alpha=0, reg_lambda=1, scale_pos_weight=1, seed=10,\n",
        "#               silent=None, subsample=1, verbosity=1)\n",
        "# clf.fit(X_train, y_train)"
      ],
      "metadata": {
        "id": "xy-BAQ7FMBNx"
      },
      "execution_count": 31,
      "outputs": []
    },
    {
      "cell_type": "code",
      "source": [
        "# y_pred = clf.predict(X_test)\n",
        "# ytrain_pred =clf.predict_proba(X_train)\n",
        "# ytest_pred = clf.predict_proba(X_test)\n",
        "# print(\"Training Score: {}\".format(roc_auc_score(y_train, ytrain_pred[:,1])))\n",
        "# print(\"Testing Score:{}\". format(roc_auc_score(y_test, ytest_pred[:,1])))\n",
        "# modify_result(\"XGBoost\",\n",
        "#              accuracy_score(clf.predict(X_train), y_train),\n",
        "#              accuracy_score(y_test,y_pred))"
      ],
      "metadata": {
        "id": "lPMpTeaXMDGZ"
      },
      "execution_count": 32,
      "outputs": []
    },
    {
      "cell_type": "code",
      "source": [
        "# y_pred=clf.predict(X_train)\n",
        "# print(confusion_matrix(y_train,y_pred))\n",
        "# print(accuracy_score(y_train,y_pred))\n",
        "# print(classification_report(y_train,y_pred))"
      ],
      "metadata": {
        "id": "-Bq-dAQmMEyF"
      },
      "execution_count": 33,
      "outputs": []
    },
    {
      "cell_type": "code",
      "source": [
        "# y_pred=clf.predict(X_test)\n",
        "# print(confusion_matrix(y_test,y_pred))\n",
        "# print(accuracy_score(y_test,y_pred))\n",
        "# print(classification_report(y_test,y_pred))"
      ],
      "metadata": {
        "id": "a8WWr60rMGh-"
      },
      "execution_count": 34,
      "outputs": []
    },
    {
      "cell_type": "code",
      "source": [
        "# ## Hyperparameter optimization using RandomizedSearchCV\n",
        "# from sklearn.model_selection import RandomizedSearchCV\n",
        "# params={\n",
        "#  \"learning_rate\"    : [0.05, 0.10, 0.15, 0.20, 0.25, 0.30 ] ,\n",
        "#  \"max_depth\"        : [ 3, 4, 5, 6, 8, 10, 12, 15],\n",
        "#  \"min_child_weight\" : [ 1, 3, 5, 7 ],\n",
        "#  \"gamma\"            : [ 0.0, 0.1, 0.2 , 0.3, 0.4 ],\n",
        "#  \"colsample_bytree\" : [ 0.3, 0.4, 0.5 , 0.7 ]\n",
        "# }"
      ],
      "metadata": {
        "id": "GJG3Pu03MItF"
      },
      "execution_count": 35,
      "outputs": []
    },
    {
      "cell_type": "code",
      "source": [
        "# classifier=xgboost.XGBClassifier()\n",
        "# random_search=RandomizedSearchCV(classifier,param_distributions=params,n_iter=5,scoring='roc_auc',n_jobs=-1,refit=True,cv=10,verbose=3)"
      ],
      "metadata": {
        "id": "5qMndFZvMLQ4"
      },
      "execution_count": 36,
      "outputs": []
    },
    {
      "cell_type": "code",
      "source": [
        "# random_search.get_params"
      ],
      "metadata": {
        "id": "yeCOEM6BMdu7"
      },
      "execution_count": 37,
      "outputs": []
    },
    {
      "cell_type": "code",
      "source": [
        "# random_search.estimator"
      ],
      "metadata": {
        "id": "4th2SPXaMerh"
      },
      "execution_count": 38,
      "outputs": []
    },
    {
      "cell_type": "code",
      "source": [
        "# classifier=xgboost.XGBClassifier(base_score=0.5, booster='dart', colsample_bylevel=1,\n",
        "#               colsample_bynode=1, colsample_bytree=1, gamma=0,eval_metric='auc',\n",
        "#               learning_rate=0.1, max_delta_step=0, max_depth=3,\n",
        "#               min_child_weight=0, missing=None, n_estimators=30, n_jobs=1,\n",
        "#               nthread=None, objective='binary:logistic', random_state=10,\n",
        "#               reg_alpha=0, reg_lambda=1, scale_pos_weight=1, seed=10,\n",
        "#               silent=None, subsample=1, verbosity=1)\n",
        "# classifier.fit(X_train,y_train)"
      ],
      "metadata": {
        "id": "scpsODggMgel"
      },
      "execution_count": 39,
      "outputs": []
    },
    {
      "cell_type": "code",
      "source": [
        "# y_pred=classifier.predict(X_test)\n",
        "# print(confusion_matrix(y_test,y_pred))\n",
        "# print(accuracy_score(y_test,y_pred))\n",
        "# print(classification_report(y_test,y_pred))"
      ],
      "metadata": {
        "id": "lYdeQfx4MjQe"
      },
      "execution_count": 40,
      "outputs": []
    },
    {
      "cell_type": "code",
      "source": [
        "#Gradient Boosting\n",
        "from sklearn.ensemble import GradientBoostingClassifier\n",
        "from sklearn.metrics import accuracy_score, confusion_matrix\n",
        "clf_gr = GradientBoostingClassifier(n_estimators= 20,learning_rate =0.01, max_depth = 3, random_state = 0)\n",
        "clf_gr.fit(X_train, y_train)\n",
        "\n",
        "pred_gr = clf_gr.predict(X_test)\n",
        "\n",
        "print('(learning_rate=0.01, max_depth=2)')\n",
        "print('Accuracy of GBDT classifier on training set: {:.2f}'\n",
        "     .format(clf_gr.score(X_train, y_train)))\n",
        "print('Accuracy of GBDT classifier on test set: {}'\n",
        "     .format(clf_gr.score(X_test, y_test)))\n",
        "print('Accuracy score: {}'.format(accuracy_score(y_test, pred_gr)))\n",
        "\n",
        "print('y_test and pred: {}'.format(y_test[:20]))\n",
        "print('pred: {}'.format(pred_gr))\n",
        "from sklearn.metrics import classification_report\n",
        "reportLReg_gf = classification_report(y_test, pred_gr, output_dict=True)\n",
        "crLReg_gf = pd.DataFrame(reportLReg_gf).transpose()\n",
        "crLReg_gf"
      ],
      "metadata": {
        "id": "Psppk9QyMmTh",
        "colab": {
          "base_uri": "https://localhost:8080/",
          "height": 657
        },
        "outputId": "c1f674c7-92b6-4414-be8a-45345a44bf7a"
      },
      "execution_count": 41,
      "outputs": [
        {
          "output_type": "stream",
          "name": "stdout",
          "text": [
            "(learning_rate=0.01, max_depth=2)\n",
            "Accuracy of GBDT classifier on training set: 0.76\n",
            "Accuracy of GBDT classifier on test set: 0.7549308953390904\n",
            "Accuracy score: 0.7549308953390904\n",
            "y_test and pred: 0     0\n",
            "1     0\n",
            "2     0\n",
            "3     0\n",
            "4     0\n",
            "5     0\n",
            "6     0\n",
            "7     0\n",
            "8     0\n",
            "9     0\n",
            "10    0\n",
            "11    1\n",
            "12    0\n",
            "13    0\n",
            "14    0\n",
            "15    0\n",
            "16    0\n",
            "17    0\n",
            "18    0\n",
            "19    0\n",
            "Name: Fraud, dtype: int64\n",
            "pred: [1 0 0 ... 0 1 1]\n"
          ]
        },
        {
          "output_type": "execute_result",
          "data": {
            "text/plain": [
              "              precision    recall  f1-score        support\n",
              "0              0.844547  0.624882  0.718295  256495.000000\n",
              "1              0.702310  0.884980  0.783134  256495.000000\n",
              "accuracy       0.754931  0.754931  0.754931       0.754931\n",
              "macro avg      0.773429  0.754931  0.750715  512990.000000\n",
              "weighted avg   0.773429  0.754931  0.750715  512990.000000"
            ],
            "text/html": [
              "\n",
              "  <div id=\"df-867606c4-3721-4065-9f20-ad3133e87337\" class=\"colab-df-container\">\n",
              "    <div>\n",
              "<style scoped>\n",
              "    .dataframe tbody tr th:only-of-type {\n",
              "        vertical-align: middle;\n",
              "    }\n",
              "\n",
              "    .dataframe tbody tr th {\n",
              "        vertical-align: top;\n",
              "    }\n",
              "\n",
              "    .dataframe thead th {\n",
              "        text-align: right;\n",
              "    }\n",
              "</style>\n",
              "<table border=\"1\" class=\"dataframe\">\n",
              "  <thead>\n",
              "    <tr style=\"text-align: right;\">\n",
              "      <th></th>\n",
              "      <th>precision</th>\n",
              "      <th>recall</th>\n",
              "      <th>f1-score</th>\n",
              "      <th>support</th>\n",
              "    </tr>\n",
              "  </thead>\n",
              "  <tbody>\n",
              "    <tr>\n",
              "      <th>0</th>\n",
              "      <td>0.844547</td>\n",
              "      <td>0.624882</td>\n",
              "      <td>0.718295</td>\n",
              "      <td>256495.000000</td>\n",
              "    </tr>\n",
              "    <tr>\n",
              "      <th>1</th>\n",
              "      <td>0.702310</td>\n",
              "      <td>0.884980</td>\n",
              "      <td>0.783134</td>\n",
              "      <td>256495.000000</td>\n",
              "    </tr>\n",
              "    <tr>\n",
              "      <th>accuracy</th>\n",
              "      <td>0.754931</td>\n",
              "      <td>0.754931</td>\n",
              "      <td>0.754931</td>\n",
              "      <td>0.754931</td>\n",
              "    </tr>\n",
              "    <tr>\n",
              "      <th>macro avg</th>\n",
              "      <td>0.773429</td>\n",
              "      <td>0.754931</td>\n",
              "      <td>0.750715</td>\n",
              "      <td>512990.000000</td>\n",
              "    </tr>\n",
              "    <tr>\n",
              "      <th>weighted avg</th>\n",
              "      <td>0.773429</td>\n",
              "      <td>0.754931</td>\n",
              "      <td>0.750715</td>\n",
              "      <td>512990.000000</td>\n",
              "    </tr>\n",
              "  </tbody>\n",
              "</table>\n",
              "</div>\n",
              "    <div class=\"colab-df-buttons\">\n",
              "\n",
              "  <div class=\"colab-df-container\">\n",
              "    <button class=\"colab-df-convert\" onclick=\"convertToInteractive('df-867606c4-3721-4065-9f20-ad3133e87337')\"\n",
              "            title=\"Convert this dataframe to an interactive table.\"\n",
              "            style=\"display:none;\">\n",
              "\n",
              "  <svg xmlns=\"http://www.w3.org/2000/svg\" height=\"24px\" viewBox=\"0 -960 960 960\">\n",
              "    <path d=\"M120-120v-720h720v720H120Zm60-500h600v-160H180v160Zm220 220h160v-160H400v160Zm0 220h160v-160H400v160ZM180-400h160v-160H180v160Zm440 0h160v-160H620v160ZM180-180h160v-160H180v160Zm440 0h160v-160H620v160Z\"/>\n",
              "  </svg>\n",
              "    </button>\n",
              "\n",
              "  <style>\n",
              "    .colab-df-container {\n",
              "      display:flex;\n",
              "      gap: 12px;\n",
              "    }\n",
              "\n",
              "    .colab-df-convert {\n",
              "      background-color: #E8F0FE;\n",
              "      border: none;\n",
              "      border-radius: 50%;\n",
              "      cursor: pointer;\n",
              "      display: none;\n",
              "      fill: #1967D2;\n",
              "      height: 32px;\n",
              "      padding: 0 0 0 0;\n",
              "      width: 32px;\n",
              "    }\n",
              "\n",
              "    .colab-df-convert:hover {\n",
              "      background-color: #E2EBFA;\n",
              "      box-shadow: 0px 1px 2px rgba(60, 64, 67, 0.3), 0px 1px 3px 1px rgba(60, 64, 67, 0.15);\n",
              "      fill: #174EA6;\n",
              "    }\n",
              "\n",
              "    .colab-df-buttons div {\n",
              "      margin-bottom: 4px;\n",
              "    }\n",
              "\n",
              "    [theme=dark] .colab-df-convert {\n",
              "      background-color: #3B4455;\n",
              "      fill: #D2E3FC;\n",
              "    }\n",
              "\n",
              "    [theme=dark] .colab-df-convert:hover {\n",
              "      background-color: #434B5C;\n",
              "      box-shadow: 0px 1px 3px 1px rgba(0, 0, 0, 0.15);\n",
              "      filter: drop-shadow(0px 1px 2px rgba(0, 0, 0, 0.3));\n",
              "      fill: #FFFFFF;\n",
              "    }\n",
              "  </style>\n",
              "\n",
              "    <script>\n",
              "      const buttonEl =\n",
              "        document.querySelector('#df-867606c4-3721-4065-9f20-ad3133e87337 button.colab-df-convert');\n",
              "      buttonEl.style.display =\n",
              "        google.colab.kernel.accessAllowed ? 'block' : 'none';\n",
              "\n",
              "      async function convertToInteractive(key) {\n",
              "        const element = document.querySelector('#df-867606c4-3721-4065-9f20-ad3133e87337');\n",
              "        const dataTable =\n",
              "          await google.colab.kernel.invokeFunction('convertToInteractive',\n",
              "                                                    [key], {});\n",
              "        if (!dataTable) return;\n",
              "\n",
              "        const docLinkHtml = 'Like what you see? Visit the ' +\n",
              "          '<a target=\"_blank\" href=https://colab.research.google.com/notebooks/data_table.ipynb>data table notebook</a>'\n",
              "          + ' to learn more about interactive tables.';\n",
              "        element.innerHTML = '';\n",
              "        dataTable['output_type'] = 'display_data';\n",
              "        await google.colab.output.renderOutput(dataTable, element);\n",
              "        const docLink = document.createElement('div');\n",
              "        docLink.innerHTML = docLinkHtml;\n",
              "        element.appendChild(docLink);\n",
              "      }\n",
              "    </script>\n",
              "  </div>\n",
              "\n",
              "\n",
              "<div id=\"df-1f849478-d1fa-4a51-b4b9-61075f764600\">\n",
              "  <button class=\"colab-df-quickchart\" onclick=\"quickchart('df-1f849478-d1fa-4a51-b4b9-61075f764600')\"\n",
              "            title=\"Suggest charts.\"\n",
              "            style=\"display:none;\">\n",
              "\n",
              "<svg xmlns=\"http://www.w3.org/2000/svg\" height=\"24px\"viewBox=\"0 0 24 24\"\n",
              "     width=\"24px\">\n",
              "    <g>\n",
              "        <path d=\"M19 3H5c-1.1 0-2 .9-2 2v14c0 1.1.9 2 2 2h14c1.1 0 2-.9 2-2V5c0-1.1-.9-2-2-2zM9 17H7v-7h2v7zm4 0h-2V7h2v10zm4 0h-2v-4h2v4z\"/>\n",
              "    </g>\n",
              "</svg>\n",
              "  </button>\n",
              "\n",
              "<style>\n",
              "  .colab-df-quickchart {\n",
              "    background-color: #E8F0FE;\n",
              "    border: none;\n",
              "    border-radius: 50%;\n",
              "    cursor: pointer;\n",
              "    display: none;\n",
              "    fill: #1967D2;\n",
              "    height: 32px;\n",
              "    padding: 0 0 0 0;\n",
              "    width: 32px;\n",
              "  }\n",
              "\n",
              "  .colab-df-quickchart:hover {\n",
              "    background-color: #E2EBFA;\n",
              "    box-shadow: 0px 1px 2px rgba(60, 64, 67, 0.3), 0px 1px 3px 1px rgba(60, 64, 67, 0.15);\n",
              "    fill: #174EA6;\n",
              "  }\n",
              "\n",
              "  [theme=dark] .colab-df-quickchart {\n",
              "    background-color: #3B4455;\n",
              "    fill: #D2E3FC;\n",
              "  }\n",
              "\n",
              "  [theme=dark] .colab-df-quickchart:hover {\n",
              "    background-color: #434B5C;\n",
              "    box-shadow: 0px 1px 3px 1px rgba(0, 0, 0, 0.15);\n",
              "    filter: drop-shadow(0px 1px 2px rgba(0, 0, 0, 0.3));\n",
              "    fill: #FFFFFF;\n",
              "  }\n",
              "</style>\n",
              "\n",
              "  <script>\n",
              "    async function quickchart(key) {\n",
              "      const charts = await google.colab.kernel.invokeFunction(\n",
              "          'suggestCharts', [key], {});\n",
              "    }\n",
              "    (() => {\n",
              "      let quickchartButtonEl =\n",
              "        document.querySelector('#df-1f849478-d1fa-4a51-b4b9-61075f764600 button');\n",
              "      quickchartButtonEl.style.display =\n",
              "        google.colab.kernel.accessAllowed ? 'block' : 'none';\n",
              "    })();\n",
              "  </script>\n",
              "</div>\n",
              "    </div>\n",
              "  </div>\n"
            ]
          },
          "metadata": {},
          "execution_count": 41
        }
      ]
    },
    {
      "cell_type": "code",
      "source": [
        "y_pred = clf_gr.predict(X_test)\n",
        "ytrain_pred =clf_gr.predict_proba(X_train)\n",
        "ytest_pred = clf_gr.predict_proba(X_test)\n",
        "print(\"Training Score: {}\".format(roc_auc_score(y_train, ytrain_pred[:,1])))\n",
        "print(\"Testing Score:{}\". format(roc_auc_score(y_test, ytest_pred[:,1])))\n",
        "modify_result(\"Gradient Boosting\",\n",
        "             accuracy_score(clf_gr.predict(X_train), y_train),\n",
        "             accuracy_score(y_test,y_pred))"
      ],
      "metadata": {
        "id": "WNX478IVMoiF",
        "colab": {
          "base_uri": "https://localhost:8080/"
        },
        "outputId": "84ec4346-0827-498d-f159-0ac9747c1612"
      },
      "execution_count": 42,
      "outputs": [
        {
          "output_type": "stream",
          "name": "stdout",
          "text": [
            "Training Score: 0.855328139561129\n",
            "Testing Score:0.8553363220483057\n"
          ]
        }
      ]
    },
    {
      "cell_type": "code",
      "source": [
        "y_pred=clf_gr.predict(X_test)\n",
        "print(confusion_matrix(y_test,y_pred))\n",
        "print(accuracy_score(y_test,y_pred))\n",
        "print(classification_report(y_test,y_pred))"
      ],
      "metadata": {
        "id": "whGOLmq5MqHv",
        "colab": {
          "base_uri": "https://localhost:8080/"
        },
        "outputId": "103a7c98-6405-4af9-9a7b-ecccacf9c70d"
      },
      "execution_count": 43,
      "outputs": [
        {
          "output_type": "stream",
          "name": "stdout",
          "text": [
            "[[160279  96216]\n",
            " [ 29502 226993]]\n",
            "0.7549308953390904\n",
            "              precision    recall  f1-score   support\n",
            "\n",
            "           0       0.84      0.62      0.72    256495\n",
            "           1       0.70      0.88      0.78    256495\n",
            "\n",
            "    accuracy                           0.75    512990\n",
            "   macro avg       0.77      0.75      0.75    512990\n",
            "weighted avg       0.77      0.75      0.75    512990\n",
            "\n"
          ]
        }
      ]
    },
    {
      "cell_type": "code",
      "source": [
        "# from imblearn.ensemble import EasyEnsembleClassifier\n",
        "# easy=EasyEnsembleClassifier( n_estimators=20, n_jobs=-1,random_state=42)\n",
        "# easy.fit(X_train,y_train)"
      ],
      "metadata": {
        "id": "YVneIg4rMsFo"
      },
      "execution_count": 44,
      "outputs": []
    },
    {
      "cell_type": "code",
      "source": [
        "# y_pred = easy.predict(X_test)\n",
        "# ytrain_pred =easy.predict_proba(X_train)\n",
        "# ytest_pred = easy.predict_proba(X_test)\n",
        "# print(\"Training Score: {}\".format(roc_auc_score(y_train, ytrain_pred[:,1])))\n",
        "# print(\"Testing Score:{}\". format(roc_auc_score(y_test, ytest_pred[:,1])))\n",
        "# modify_result(\"Easy Ensemble Classifier\",\n",
        "#              accuracy_score(easy.predict(X_train), y_train),\n",
        "#              accuracy_score(y_test,y_pred))"
      ],
      "metadata": {
        "id": "engou74NMubf"
      },
      "execution_count": 45,
      "outputs": []
    },
    {
      "cell_type": "code",
      "source": [
        "# y_pred=easy.predict(X_test)\n",
        "# print(confusion_matrix(y_test,y_pred))\n",
        "# print(accuracy_score(y_test,y_pred))\n",
        "# print(classification_report(y_test,y_pred))"
      ],
      "metadata": {
        "id": "CJUnLYI2Mv8c"
      },
      "execution_count": 46,
      "outputs": []
    },
    {
      "cell_type": "code",
      "source": [
        "from sklearn.naive_bayes import GaussianNB as GB\n",
        "classifier= GB()\n",
        "classifier.fit(X_train,y_train)"
      ],
      "metadata": {
        "id": "1UdOJaNnMxq5",
        "colab": {
          "base_uri": "https://localhost:8080/",
          "height": 74
        },
        "outputId": "887d874a-ca19-493d-d9be-4a6d51c8dfd7"
      },
      "execution_count": 47,
      "outputs": [
        {
          "output_type": "execute_result",
          "data": {
            "text/plain": [
              "GaussianNB()"
            ],
            "text/html": [
              "<style>#sk-container-id-3 {color: black;background-color: white;}#sk-container-id-3 pre{padding: 0;}#sk-container-id-3 div.sk-toggleable {background-color: white;}#sk-container-id-3 label.sk-toggleable__label {cursor: pointer;display: block;width: 100%;margin-bottom: 0;padding: 0.3em;box-sizing: border-box;text-align: center;}#sk-container-id-3 label.sk-toggleable__label-arrow:before {content: \"▸\";float: left;margin-right: 0.25em;color: #696969;}#sk-container-id-3 label.sk-toggleable__label-arrow:hover:before {color: black;}#sk-container-id-3 div.sk-estimator:hover label.sk-toggleable__label-arrow:before {color: black;}#sk-container-id-3 div.sk-toggleable__content {max-height: 0;max-width: 0;overflow: hidden;text-align: left;background-color: #f0f8ff;}#sk-container-id-3 div.sk-toggleable__content pre {margin: 0.2em;color: black;border-radius: 0.25em;background-color: #f0f8ff;}#sk-container-id-3 input.sk-toggleable__control:checked~div.sk-toggleable__content {max-height: 200px;max-width: 100%;overflow: auto;}#sk-container-id-3 input.sk-toggleable__control:checked~label.sk-toggleable__label-arrow:before {content: \"▾\";}#sk-container-id-3 div.sk-estimator input.sk-toggleable__control:checked~label.sk-toggleable__label {background-color: #d4ebff;}#sk-container-id-3 div.sk-label input.sk-toggleable__control:checked~label.sk-toggleable__label {background-color: #d4ebff;}#sk-container-id-3 input.sk-hidden--visually {border: 0;clip: rect(1px 1px 1px 1px);clip: rect(1px, 1px, 1px, 1px);height: 1px;margin: -1px;overflow: hidden;padding: 0;position: absolute;width: 1px;}#sk-container-id-3 div.sk-estimator {font-family: monospace;background-color: #f0f8ff;border: 1px dotted black;border-radius: 0.25em;box-sizing: border-box;margin-bottom: 0.5em;}#sk-container-id-3 div.sk-estimator:hover {background-color: #d4ebff;}#sk-container-id-3 div.sk-parallel-item::after {content: \"\";width: 100%;border-bottom: 1px solid gray;flex-grow: 1;}#sk-container-id-3 div.sk-label:hover label.sk-toggleable__label {background-color: #d4ebff;}#sk-container-id-3 div.sk-serial::before {content: \"\";position: absolute;border-left: 1px solid gray;box-sizing: border-box;top: 0;bottom: 0;left: 50%;z-index: 0;}#sk-container-id-3 div.sk-serial {display: flex;flex-direction: column;align-items: center;background-color: white;padding-right: 0.2em;padding-left: 0.2em;position: relative;}#sk-container-id-3 div.sk-item {position: relative;z-index: 1;}#sk-container-id-3 div.sk-parallel {display: flex;align-items: stretch;justify-content: center;background-color: white;position: relative;}#sk-container-id-3 div.sk-item::before, #sk-container-id-3 div.sk-parallel-item::before {content: \"\";position: absolute;border-left: 1px solid gray;box-sizing: border-box;top: 0;bottom: 0;left: 50%;z-index: -1;}#sk-container-id-3 div.sk-parallel-item {display: flex;flex-direction: column;z-index: 1;position: relative;background-color: white;}#sk-container-id-3 div.sk-parallel-item:first-child::after {align-self: flex-end;width: 50%;}#sk-container-id-3 div.sk-parallel-item:last-child::after {align-self: flex-start;width: 50%;}#sk-container-id-3 div.sk-parallel-item:only-child::after {width: 0;}#sk-container-id-3 div.sk-dashed-wrapped {border: 1px dashed gray;margin: 0 0.4em 0.5em 0.4em;box-sizing: border-box;padding-bottom: 0.4em;background-color: white;}#sk-container-id-3 div.sk-label label {font-family: monospace;font-weight: bold;display: inline-block;line-height: 1.2em;}#sk-container-id-3 div.sk-label-container {text-align: center;}#sk-container-id-3 div.sk-container {/* jupyter's `normalize.less` sets `[hidden] { display: none; }` but bootstrap.min.css set `[hidden] { display: none !important; }` so we also need the `!important` here to be able to override the default hidden behavior on the sphinx rendered scikit-learn.org. See: https://github.com/scikit-learn/scikit-learn/issues/21755 */display: inline-block !important;position: relative;}#sk-container-id-3 div.sk-text-repr-fallback {display: none;}</style><div id=\"sk-container-id-3\" class=\"sk-top-container\"><div class=\"sk-text-repr-fallback\"><pre>GaussianNB()</pre><b>In a Jupyter environment, please rerun this cell to show the HTML representation or trust the notebook. <br />On GitHub, the HTML representation is unable to render, please try loading this page with nbviewer.org.</b></div><div class=\"sk-container\" hidden><div class=\"sk-item\"><div class=\"sk-estimator sk-toggleable\"><input class=\"sk-toggleable__control sk-hidden--visually\" id=\"sk-estimator-id-3\" type=\"checkbox\" checked><label for=\"sk-estimator-id-3\" class=\"sk-toggleable__label sk-toggleable__label-arrow\">GaussianNB</label><div class=\"sk-toggleable__content\"><pre>GaussianNB()</pre></div></div></div></div></div>"
            ]
          },
          "metadata": {},
          "execution_count": 47
        }
      ]
    },
    {
      "cell_type": "code",
      "source": [
        "y_pred = classifier.predict(X_test)\n",
        "ytrain_pred =classifier.predict_proba(X_train)\n",
        "ytest_pred = classifier.predict_proba(X_test)\n",
        "print(\"Training Score: {}\".format(roc_auc_score(y_train, ytrain_pred[:,1])))\n",
        "print(\"Testing Score:{}\". format(roc_auc_score(y_test, ytest_pred[:,1])))\n",
        "modify_result(\"Guassian Naive Bayes\",\n",
        "             accuracy_score(classifier.predict(X_train), y_train),\n",
        "             accuracy_score(y_test,y_pred))"
      ],
      "metadata": {
        "id": "O3cBp1caMzLQ",
        "colab": {
          "base_uri": "https://localhost:8080/"
        },
        "outputId": "ae994c77-f410-4322-fde1-8b89feb5e9af"
      },
      "execution_count": 48,
      "outputs": [
        {
          "output_type": "stream",
          "name": "stdout",
          "text": [
            "Training Score: 0.7114477670874004\n",
            "Testing Score:0.7110371237409644\n"
          ]
        }
      ]
    },
    {
      "cell_type": "code",
      "source": [
        "y_pred=classifier.predict(X_test)\n",
        "print(confusion_matrix(y_test,y_pred))\n",
        "print(accuracy_score(y_test,y_pred))\n",
        "print(classification_report(y_test,y_pred))"
      ],
      "metadata": {
        "id": "WmWBIChuM0lA",
        "colab": {
          "base_uri": "https://localhost:8080/"
        },
        "outputId": "501d7c97-0849-43da-9919-2b527e490f12"
      },
      "execution_count": 49,
      "outputs": [
        {
          "output_type": "stream",
          "name": "stdout",
          "text": [
            "[[124540 131955]\n",
            " [ 27972 228523]]\n",
            "0.6882453849002904\n",
            "              precision    recall  f1-score   support\n",
            "\n",
            "           0       0.82      0.49      0.61    256495\n",
            "           1       0.63      0.89      0.74    256495\n",
            "\n",
            "    accuracy                           0.69    512990\n",
            "   macro avg       0.73      0.69      0.67    512990\n",
            "weighted avg       0.73      0.69      0.67    512990\n",
            "\n"
          ]
        }
      ]
    },
    {
      "cell_type": "code",
      "source": [
        "from sklearn.model_selection import KFold\n",
        "from sklearn.model_selection import cross_val_score\n",
        "from sklearn.ensemble import AdaBoostClassifier\n",
        "num_trees = 10\n",
        "seed=7\n",
        "kfold = KFold(n_splits=10, random_state=None)\n",
        "model = AdaBoostClassifier(n_estimators=num_trees, random_state=None)\n",
        "model.fit(X_train,y_train)"
      ],
      "metadata": {
        "id": "QG6DW6lyM18B",
        "colab": {
          "base_uri": "https://localhost:8080/",
          "height": 74
        },
        "outputId": "c69b1d36-1acd-4a18-ece6-f6a9f814c303"
      },
      "execution_count": 50,
      "outputs": [
        {
          "output_type": "execute_result",
          "data": {
            "text/plain": [
              "AdaBoostClassifier(n_estimators=10)"
            ],
            "text/html": [
              "<style>#sk-container-id-4 {color: black;background-color: white;}#sk-container-id-4 pre{padding: 0;}#sk-container-id-4 div.sk-toggleable {background-color: white;}#sk-container-id-4 label.sk-toggleable__label {cursor: pointer;display: block;width: 100%;margin-bottom: 0;padding: 0.3em;box-sizing: border-box;text-align: center;}#sk-container-id-4 label.sk-toggleable__label-arrow:before {content: \"▸\";float: left;margin-right: 0.25em;color: #696969;}#sk-container-id-4 label.sk-toggleable__label-arrow:hover:before {color: black;}#sk-container-id-4 div.sk-estimator:hover label.sk-toggleable__label-arrow:before {color: black;}#sk-container-id-4 div.sk-toggleable__content {max-height: 0;max-width: 0;overflow: hidden;text-align: left;background-color: #f0f8ff;}#sk-container-id-4 div.sk-toggleable__content pre {margin: 0.2em;color: black;border-radius: 0.25em;background-color: #f0f8ff;}#sk-container-id-4 input.sk-toggleable__control:checked~div.sk-toggleable__content {max-height: 200px;max-width: 100%;overflow: auto;}#sk-container-id-4 input.sk-toggleable__control:checked~label.sk-toggleable__label-arrow:before {content: \"▾\";}#sk-container-id-4 div.sk-estimator input.sk-toggleable__control:checked~label.sk-toggleable__label {background-color: #d4ebff;}#sk-container-id-4 div.sk-label input.sk-toggleable__control:checked~label.sk-toggleable__label {background-color: #d4ebff;}#sk-container-id-4 input.sk-hidden--visually {border: 0;clip: rect(1px 1px 1px 1px);clip: rect(1px, 1px, 1px, 1px);height: 1px;margin: -1px;overflow: hidden;padding: 0;position: absolute;width: 1px;}#sk-container-id-4 div.sk-estimator {font-family: monospace;background-color: #f0f8ff;border: 1px dotted black;border-radius: 0.25em;box-sizing: border-box;margin-bottom: 0.5em;}#sk-container-id-4 div.sk-estimator:hover {background-color: #d4ebff;}#sk-container-id-4 div.sk-parallel-item::after {content: \"\";width: 100%;border-bottom: 1px solid gray;flex-grow: 1;}#sk-container-id-4 div.sk-label:hover label.sk-toggleable__label {background-color: #d4ebff;}#sk-container-id-4 div.sk-serial::before {content: \"\";position: absolute;border-left: 1px solid gray;box-sizing: border-box;top: 0;bottom: 0;left: 50%;z-index: 0;}#sk-container-id-4 div.sk-serial {display: flex;flex-direction: column;align-items: center;background-color: white;padding-right: 0.2em;padding-left: 0.2em;position: relative;}#sk-container-id-4 div.sk-item {position: relative;z-index: 1;}#sk-container-id-4 div.sk-parallel {display: flex;align-items: stretch;justify-content: center;background-color: white;position: relative;}#sk-container-id-4 div.sk-item::before, #sk-container-id-4 div.sk-parallel-item::before {content: \"\";position: absolute;border-left: 1px solid gray;box-sizing: border-box;top: 0;bottom: 0;left: 50%;z-index: -1;}#sk-container-id-4 div.sk-parallel-item {display: flex;flex-direction: column;z-index: 1;position: relative;background-color: white;}#sk-container-id-4 div.sk-parallel-item:first-child::after {align-self: flex-end;width: 50%;}#sk-container-id-4 div.sk-parallel-item:last-child::after {align-self: flex-start;width: 50%;}#sk-container-id-4 div.sk-parallel-item:only-child::after {width: 0;}#sk-container-id-4 div.sk-dashed-wrapped {border: 1px dashed gray;margin: 0 0.4em 0.5em 0.4em;box-sizing: border-box;padding-bottom: 0.4em;background-color: white;}#sk-container-id-4 div.sk-label label {font-family: monospace;font-weight: bold;display: inline-block;line-height: 1.2em;}#sk-container-id-4 div.sk-label-container {text-align: center;}#sk-container-id-4 div.sk-container {/* jupyter's `normalize.less` sets `[hidden] { display: none; }` but bootstrap.min.css set `[hidden] { display: none !important; }` so we also need the `!important` here to be able to override the default hidden behavior on the sphinx rendered scikit-learn.org. See: https://github.com/scikit-learn/scikit-learn/issues/21755 */display: inline-block !important;position: relative;}#sk-container-id-4 div.sk-text-repr-fallback {display: none;}</style><div id=\"sk-container-id-4\" class=\"sk-top-container\"><div class=\"sk-text-repr-fallback\"><pre>AdaBoostClassifier(n_estimators=10)</pre><b>In a Jupyter environment, please rerun this cell to show the HTML representation or trust the notebook. <br />On GitHub, the HTML representation is unable to render, please try loading this page with nbviewer.org.</b></div><div class=\"sk-container\" hidden><div class=\"sk-item\"><div class=\"sk-estimator sk-toggleable\"><input class=\"sk-toggleable__control sk-hidden--visually\" id=\"sk-estimator-id-4\" type=\"checkbox\" checked><label for=\"sk-estimator-id-4\" class=\"sk-toggleable__label sk-toggleable__label-arrow\">AdaBoostClassifier</label><div class=\"sk-toggleable__content\"><pre>AdaBoostClassifier(n_estimators=10)</pre></div></div></div></div></div>"
            ]
          },
          "metadata": {},
          "execution_count": 50
        }
      ]
    },
    {
      "cell_type": "code",
      "source": [
        "y_pred = model.predict(X_test)\n",
        "ytrain_pred =model.predict_proba(X_train)\n",
        "ytest_pred = model.predict_proba(X_test)\n",
        "print(\"Training Score: {}\".format(roc_auc_score(y_train, ytrain_pred[:,1])))\n",
        "print(\"Testing Score:{}\". format(roc_auc_score(y_test, ytest_pred[:,1])))\n",
        "modify_result(\"Adaboost classifier\",\n",
        "             accuracy_score(model.predict(X_train), y_train),\n",
        "             accuracy_score(y_test,y_pred))"
      ],
      "metadata": {
        "id": "i-PVdkC7M3Zg",
        "colab": {
          "base_uri": "https://localhost:8080/"
        },
        "outputId": "3ec34922-6097-4a2d-afbf-c6b31e08b142"
      },
      "execution_count": 51,
      "outputs": [
        {
          "output_type": "stream",
          "name": "stdout",
          "text": [
            "Training Score: 0.879823112823296\n",
            "Testing Score:0.8795679110564338\n"
          ]
        }
      ]
    },
    {
      "cell_type": "code",
      "source": [
        "y_pred=model.predict(X_test)\n",
        "print(confusion_matrix(y_test,y_pred))\n",
        "print(accuracy_score(y_test,y_pred))\n",
        "print(classification_report(y_test,y_pred))"
      ],
      "metadata": {
        "id": "7qxb2JmqM44o",
        "colab": {
          "base_uri": "https://localhost:8080/"
        },
        "outputId": "6d78db18-a18b-4180-cba0-3fe6811a95d8"
      },
      "execution_count": 52,
      "outputs": [
        {
          "output_type": "stream",
          "name": "stdout",
          "text": [
            "[[194227  62268]\n",
            " [ 41027 215468]]\n",
            "0.7986412990506637\n",
            "              precision    recall  f1-score   support\n",
            "\n",
            "           0       0.83      0.76      0.79    256495\n",
            "           1       0.78      0.84      0.81    256495\n",
            "\n",
            "    accuracy                           0.80    512990\n",
            "   macro avg       0.80      0.80      0.80    512990\n",
            "weighted avg       0.80      0.80      0.80    512990\n",
            "\n"
          ]
        }
      ]
    },
    {
      "cell_type": "code",
      "source": [
        "from sklearn.linear_model import LogisticRegression\n",
        "clf1=LogisticRegression()\n",
        "clf1.fit(X_train,y_train)"
      ],
      "metadata": {
        "id": "hBrRMRX_M6Qe",
        "colab": {
          "base_uri": "https://localhost:8080/",
          "height": 74
        },
        "outputId": "6d86fd6d-8ecd-47ac-a5ca-a1c40f3811c4"
      },
      "execution_count": 53,
      "outputs": [
        {
          "output_type": "execute_result",
          "data": {
            "text/plain": [
              "LogisticRegression()"
            ],
            "text/html": [
              "<style>#sk-container-id-5 {color: black;background-color: white;}#sk-container-id-5 pre{padding: 0;}#sk-container-id-5 div.sk-toggleable {background-color: white;}#sk-container-id-5 label.sk-toggleable__label {cursor: pointer;display: block;width: 100%;margin-bottom: 0;padding: 0.3em;box-sizing: border-box;text-align: center;}#sk-container-id-5 label.sk-toggleable__label-arrow:before {content: \"▸\";float: left;margin-right: 0.25em;color: #696969;}#sk-container-id-5 label.sk-toggleable__label-arrow:hover:before {color: black;}#sk-container-id-5 div.sk-estimator:hover label.sk-toggleable__label-arrow:before {color: black;}#sk-container-id-5 div.sk-toggleable__content {max-height: 0;max-width: 0;overflow: hidden;text-align: left;background-color: #f0f8ff;}#sk-container-id-5 div.sk-toggleable__content pre {margin: 0.2em;color: black;border-radius: 0.25em;background-color: #f0f8ff;}#sk-container-id-5 input.sk-toggleable__control:checked~div.sk-toggleable__content {max-height: 200px;max-width: 100%;overflow: auto;}#sk-container-id-5 input.sk-toggleable__control:checked~label.sk-toggleable__label-arrow:before {content: \"▾\";}#sk-container-id-5 div.sk-estimator input.sk-toggleable__control:checked~label.sk-toggleable__label {background-color: #d4ebff;}#sk-container-id-5 div.sk-label input.sk-toggleable__control:checked~label.sk-toggleable__label {background-color: #d4ebff;}#sk-container-id-5 input.sk-hidden--visually {border: 0;clip: rect(1px 1px 1px 1px);clip: rect(1px, 1px, 1px, 1px);height: 1px;margin: -1px;overflow: hidden;padding: 0;position: absolute;width: 1px;}#sk-container-id-5 div.sk-estimator {font-family: monospace;background-color: #f0f8ff;border: 1px dotted black;border-radius: 0.25em;box-sizing: border-box;margin-bottom: 0.5em;}#sk-container-id-5 div.sk-estimator:hover {background-color: #d4ebff;}#sk-container-id-5 div.sk-parallel-item::after {content: \"\";width: 100%;border-bottom: 1px solid gray;flex-grow: 1;}#sk-container-id-5 div.sk-label:hover label.sk-toggleable__label {background-color: #d4ebff;}#sk-container-id-5 div.sk-serial::before {content: \"\";position: absolute;border-left: 1px solid gray;box-sizing: border-box;top: 0;bottom: 0;left: 50%;z-index: 0;}#sk-container-id-5 div.sk-serial {display: flex;flex-direction: column;align-items: center;background-color: white;padding-right: 0.2em;padding-left: 0.2em;position: relative;}#sk-container-id-5 div.sk-item {position: relative;z-index: 1;}#sk-container-id-5 div.sk-parallel {display: flex;align-items: stretch;justify-content: center;background-color: white;position: relative;}#sk-container-id-5 div.sk-item::before, #sk-container-id-5 div.sk-parallel-item::before {content: \"\";position: absolute;border-left: 1px solid gray;box-sizing: border-box;top: 0;bottom: 0;left: 50%;z-index: -1;}#sk-container-id-5 div.sk-parallel-item {display: flex;flex-direction: column;z-index: 1;position: relative;background-color: white;}#sk-container-id-5 div.sk-parallel-item:first-child::after {align-self: flex-end;width: 50%;}#sk-container-id-5 div.sk-parallel-item:last-child::after {align-self: flex-start;width: 50%;}#sk-container-id-5 div.sk-parallel-item:only-child::after {width: 0;}#sk-container-id-5 div.sk-dashed-wrapped {border: 1px dashed gray;margin: 0 0.4em 0.5em 0.4em;box-sizing: border-box;padding-bottom: 0.4em;background-color: white;}#sk-container-id-5 div.sk-label label {font-family: monospace;font-weight: bold;display: inline-block;line-height: 1.2em;}#sk-container-id-5 div.sk-label-container {text-align: center;}#sk-container-id-5 div.sk-container {/* jupyter's `normalize.less` sets `[hidden] { display: none; }` but bootstrap.min.css set `[hidden] { display: none !important; }` so we also need the `!important` here to be able to override the default hidden behavior on the sphinx rendered scikit-learn.org. See: https://github.com/scikit-learn/scikit-learn/issues/21755 */display: inline-block !important;position: relative;}#sk-container-id-5 div.sk-text-repr-fallback {display: none;}</style><div id=\"sk-container-id-5\" class=\"sk-top-container\"><div class=\"sk-text-repr-fallback\"><pre>LogisticRegression()</pre><b>In a Jupyter environment, please rerun this cell to show the HTML representation or trust the notebook. <br />On GitHub, the HTML representation is unable to render, please try loading this page with nbviewer.org.</b></div><div class=\"sk-container\" hidden><div class=\"sk-item\"><div class=\"sk-estimator sk-toggleable\"><input class=\"sk-toggleable__control sk-hidden--visually\" id=\"sk-estimator-id-5\" type=\"checkbox\" checked><label for=\"sk-estimator-id-5\" class=\"sk-toggleable__label sk-toggleable__label-arrow\">LogisticRegression</label><div class=\"sk-toggleable__content\"><pre>LogisticRegression()</pre></div></div></div></div></div>"
            ]
          },
          "metadata": {},
          "execution_count": 53
        }
      ]
    },
    {
      "cell_type": "code",
      "source": [
        "y_pred = clf1.predict(X_test)\n",
        "ytrain_pred =clf1.predict_proba(X_train)\n",
        "ytest_pred = clf1.predict_proba(X_test)\n",
        "print(\"Training Score: {}\".format(roc_auc_score(y_train, ytrain_pred[:,1])))\n",
        "print(\"Testing Score:{}\". format(roc_auc_score(y_test, ytest_pred[:,1])))\n",
        "modify_result(\"Logistic Regression\",\n",
        "             accuracy_score(clf1.predict(X_train), y_train),\n",
        "             accuracy_score(y_test, y_pred))"
      ],
      "metadata": {
        "id": "nvimIobBM72p",
        "colab": {
          "base_uri": "https://localhost:8080/"
        },
        "outputId": "88b0ac55-4210-41d5-d223-2fc32b1e441b"
      },
      "execution_count": 54,
      "outputs": [
        {
          "output_type": "stream",
          "name": "stdout",
          "text": [
            "Training Score: 0.6383201864221072\n",
            "Testing Score:0.6383678458566993\n"
          ]
        }
      ]
    },
    {
      "cell_type": "code",
      "source": [
        "y_pred = clf1.predict(X_test)\n",
        "print(confusion_matrix(y_test,y_pred))\n",
        "print(accuracy_score(y_test,y_pred))\n",
        "print(classification_report(y_test,y_pred))"
      ],
      "metadata": {
        "id": "hO6yc2aoM9xK",
        "colab": {
          "base_uri": "https://localhost:8080/"
        },
        "outputId": "6c1c3f3f-364f-4705-b16f-bfacc3f28ddb"
      },
      "execution_count": 55,
      "outputs": [
        {
          "output_type": "stream",
          "name": "stdout",
          "text": [
            "[[112910 143585]\n",
            " [ 61522 194973]]\n",
            "0.6001734926606757\n",
            "              precision    recall  f1-score   support\n",
            "\n",
            "           0       0.65      0.44      0.52    256495\n",
            "           1       0.58      0.76      0.66    256495\n",
            "\n",
            "    accuracy                           0.60    512990\n",
            "   macro avg       0.61      0.60      0.59    512990\n",
            "weighted avg       0.61      0.60      0.59    512990\n",
            "\n"
          ]
        }
      ]
    },
    {
      "cell_type": "code",
      "source": [
        "from sklearn.neighbors import KNeighborsClassifier\n",
        "knn_classifier=KNeighborsClassifier()\n",
        "knn_classifier.fit(X_train, y_train)"
      ],
      "metadata": {
        "id": "2LJlC866M_ER",
        "colab": {
          "base_uri": "https://localhost:8080/",
          "height": 74
        },
        "outputId": "291cadc8-69b1-4a14-b92b-7124d7b6e863"
      },
      "execution_count": 56,
      "outputs": [
        {
          "output_type": "execute_result",
          "data": {
            "text/plain": [
              "KNeighborsClassifier()"
            ],
            "text/html": [
              "<style>#sk-container-id-6 {color: black;background-color: white;}#sk-container-id-6 pre{padding: 0;}#sk-container-id-6 div.sk-toggleable {background-color: white;}#sk-container-id-6 label.sk-toggleable__label {cursor: pointer;display: block;width: 100%;margin-bottom: 0;padding: 0.3em;box-sizing: border-box;text-align: center;}#sk-container-id-6 label.sk-toggleable__label-arrow:before {content: \"▸\";float: left;margin-right: 0.25em;color: #696969;}#sk-container-id-6 label.sk-toggleable__label-arrow:hover:before {color: black;}#sk-container-id-6 div.sk-estimator:hover label.sk-toggleable__label-arrow:before {color: black;}#sk-container-id-6 div.sk-toggleable__content {max-height: 0;max-width: 0;overflow: hidden;text-align: left;background-color: #f0f8ff;}#sk-container-id-6 div.sk-toggleable__content pre {margin: 0.2em;color: black;border-radius: 0.25em;background-color: #f0f8ff;}#sk-container-id-6 input.sk-toggleable__control:checked~div.sk-toggleable__content {max-height: 200px;max-width: 100%;overflow: auto;}#sk-container-id-6 input.sk-toggleable__control:checked~label.sk-toggleable__label-arrow:before {content: \"▾\";}#sk-container-id-6 div.sk-estimator input.sk-toggleable__control:checked~label.sk-toggleable__label {background-color: #d4ebff;}#sk-container-id-6 div.sk-label input.sk-toggleable__control:checked~label.sk-toggleable__label {background-color: #d4ebff;}#sk-container-id-6 input.sk-hidden--visually {border: 0;clip: rect(1px 1px 1px 1px);clip: rect(1px, 1px, 1px, 1px);height: 1px;margin: -1px;overflow: hidden;padding: 0;position: absolute;width: 1px;}#sk-container-id-6 div.sk-estimator {font-family: monospace;background-color: #f0f8ff;border: 1px dotted black;border-radius: 0.25em;box-sizing: border-box;margin-bottom: 0.5em;}#sk-container-id-6 div.sk-estimator:hover {background-color: #d4ebff;}#sk-container-id-6 div.sk-parallel-item::after {content: \"\";width: 100%;border-bottom: 1px solid gray;flex-grow: 1;}#sk-container-id-6 div.sk-label:hover label.sk-toggleable__label {background-color: #d4ebff;}#sk-container-id-6 div.sk-serial::before {content: \"\";position: absolute;border-left: 1px solid gray;box-sizing: border-box;top: 0;bottom: 0;left: 50%;z-index: 0;}#sk-container-id-6 div.sk-serial {display: flex;flex-direction: column;align-items: center;background-color: white;padding-right: 0.2em;padding-left: 0.2em;position: relative;}#sk-container-id-6 div.sk-item {position: relative;z-index: 1;}#sk-container-id-6 div.sk-parallel {display: flex;align-items: stretch;justify-content: center;background-color: white;position: relative;}#sk-container-id-6 div.sk-item::before, #sk-container-id-6 div.sk-parallel-item::before {content: \"\";position: absolute;border-left: 1px solid gray;box-sizing: border-box;top: 0;bottom: 0;left: 50%;z-index: -1;}#sk-container-id-6 div.sk-parallel-item {display: flex;flex-direction: column;z-index: 1;position: relative;background-color: white;}#sk-container-id-6 div.sk-parallel-item:first-child::after {align-self: flex-end;width: 50%;}#sk-container-id-6 div.sk-parallel-item:last-child::after {align-self: flex-start;width: 50%;}#sk-container-id-6 div.sk-parallel-item:only-child::after {width: 0;}#sk-container-id-6 div.sk-dashed-wrapped {border: 1px dashed gray;margin: 0 0.4em 0.5em 0.4em;box-sizing: border-box;padding-bottom: 0.4em;background-color: white;}#sk-container-id-6 div.sk-label label {font-family: monospace;font-weight: bold;display: inline-block;line-height: 1.2em;}#sk-container-id-6 div.sk-label-container {text-align: center;}#sk-container-id-6 div.sk-container {/* jupyter's `normalize.less` sets `[hidden] { display: none; }` but bootstrap.min.css set `[hidden] { display: none !important; }` so we also need the `!important` here to be able to override the default hidden behavior on the sphinx rendered scikit-learn.org. See: https://github.com/scikit-learn/scikit-learn/issues/21755 */display: inline-block !important;position: relative;}#sk-container-id-6 div.sk-text-repr-fallback {display: none;}</style><div id=\"sk-container-id-6\" class=\"sk-top-container\"><div class=\"sk-text-repr-fallback\"><pre>KNeighborsClassifier()</pre><b>In a Jupyter environment, please rerun this cell to show the HTML representation or trust the notebook. <br />On GitHub, the HTML representation is unable to render, please try loading this page with nbviewer.org.</b></div><div class=\"sk-container\" hidden><div class=\"sk-item\"><div class=\"sk-estimator sk-toggleable\"><input class=\"sk-toggleable__control sk-hidden--visually\" id=\"sk-estimator-id-6\" type=\"checkbox\" checked><label for=\"sk-estimator-id-6\" class=\"sk-toggleable__label sk-toggleable__label-arrow\">KNeighborsClassifier</label><div class=\"sk-toggleable__content\"><pre>KNeighborsClassifier()</pre></div></div></div></div></div>"
            ]
          },
          "metadata": {},
          "execution_count": 56
        }
      ]
    },
    {
      "cell_type": "code",
      "source": [
        "y_pred = knn_classifier.predict(X_test)\n",
        "ytrain_pred =knn_classifier.predict_proba(X_train)\n",
        "ytest_pred = knn_classifier.predict_proba(X_test)\n",
        "print(\"Training Score: {}\".format(roc_auc_score(y_train, ytrain_pred[:,1])))\n",
        "print(\"Testing Score:{}\". format(roc_auc_score(y_test, ytest_pred[:,1])))\n",
        "modify_result(\"KNN\",\n",
        "             accuracy_score(knn_classifier.predict(X_train), y_train),\n",
        "             accuracy_score(y_test, y_pred))"
      ],
      "metadata": {
        "id": "Wauq4C7pNAw-",
        "colab": {
          "base_uri": "https://localhost:8080/"
        },
        "outputId": "e585b725-8a63-421d-fbc4-2c6e6e3baacd"
      },
      "execution_count": 57,
      "outputs": [
        {
          "output_type": "stream",
          "name": "stdout",
          "text": [
            "Training Score: 0.933109297074803\n",
            "Testing Score:0.6144857051092106\n"
          ]
        }
      ]
    },
    {
      "cell_type": "code",
      "source": [
        "print(confusion_matrix(y_test,y_pred))\n",
        "print(accuracy_score(y_test,y_pred))\n",
        "print(classification_report(y_test,y_pred))"
      ],
      "metadata": {
        "id": "QtmBK6jNNCVD",
        "colab": {
          "base_uri": "https://localhost:8080/"
        },
        "outputId": "64b72022-d69d-4cbb-f926-05ca676f4781"
      },
      "execution_count": 58,
      "outputs": [
        {
          "output_type": "stream",
          "name": "stdout",
          "text": [
            "[[172476  84019]\n",
            " [129880 126615]]\n",
            "0.5830347570128073\n",
            "              precision    recall  f1-score   support\n",
            "\n",
            "           0       0.57      0.67      0.62    256495\n",
            "           1       0.60      0.49      0.54    256495\n",
            "\n",
            "    accuracy                           0.58    512990\n",
            "   macro avg       0.59      0.58      0.58    512990\n",
            "weighted avg       0.59      0.58      0.58    512990\n",
            "\n"
          ]
        }
      ]
    },
    {
      "cell_type": "code",
      "source": [
        "from sklearn.tree import DecisionTreeClassifier\n",
        "model= DecisionTreeClassifier()\n",
        "model.fit(X_train, y_train)"
      ],
      "metadata": {
        "id": "HHpahm2uNE52",
        "colab": {
          "base_uri": "https://localhost:8080/",
          "height": 74
        },
        "outputId": "e081ccbd-30ce-4930-831d-0528be8090c0"
      },
      "execution_count": 59,
      "outputs": [
        {
          "output_type": "execute_result",
          "data": {
            "text/plain": [
              "DecisionTreeClassifier()"
            ],
            "text/html": [
              "<style>#sk-container-id-7 {color: black;background-color: white;}#sk-container-id-7 pre{padding: 0;}#sk-container-id-7 div.sk-toggleable {background-color: white;}#sk-container-id-7 label.sk-toggleable__label {cursor: pointer;display: block;width: 100%;margin-bottom: 0;padding: 0.3em;box-sizing: border-box;text-align: center;}#sk-container-id-7 label.sk-toggleable__label-arrow:before {content: \"▸\";float: left;margin-right: 0.25em;color: #696969;}#sk-container-id-7 label.sk-toggleable__label-arrow:hover:before {color: black;}#sk-container-id-7 div.sk-estimator:hover label.sk-toggleable__label-arrow:before {color: black;}#sk-container-id-7 div.sk-toggleable__content {max-height: 0;max-width: 0;overflow: hidden;text-align: left;background-color: #f0f8ff;}#sk-container-id-7 div.sk-toggleable__content pre {margin: 0.2em;color: black;border-radius: 0.25em;background-color: #f0f8ff;}#sk-container-id-7 input.sk-toggleable__control:checked~div.sk-toggleable__content {max-height: 200px;max-width: 100%;overflow: auto;}#sk-container-id-7 input.sk-toggleable__control:checked~label.sk-toggleable__label-arrow:before {content: \"▾\";}#sk-container-id-7 div.sk-estimator input.sk-toggleable__control:checked~label.sk-toggleable__label {background-color: #d4ebff;}#sk-container-id-7 div.sk-label input.sk-toggleable__control:checked~label.sk-toggleable__label {background-color: #d4ebff;}#sk-container-id-7 input.sk-hidden--visually {border: 0;clip: rect(1px 1px 1px 1px);clip: rect(1px, 1px, 1px, 1px);height: 1px;margin: -1px;overflow: hidden;padding: 0;position: absolute;width: 1px;}#sk-container-id-7 div.sk-estimator {font-family: monospace;background-color: #f0f8ff;border: 1px dotted black;border-radius: 0.25em;box-sizing: border-box;margin-bottom: 0.5em;}#sk-container-id-7 div.sk-estimator:hover {background-color: #d4ebff;}#sk-container-id-7 div.sk-parallel-item::after {content: \"\";width: 100%;border-bottom: 1px solid gray;flex-grow: 1;}#sk-container-id-7 div.sk-label:hover label.sk-toggleable__label {background-color: #d4ebff;}#sk-container-id-7 div.sk-serial::before {content: \"\";position: absolute;border-left: 1px solid gray;box-sizing: border-box;top: 0;bottom: 0;left: 50%;z-index: 0;}#sk-container-id-7 div.sk-serial {display: flex;flex-direction: column;align-items: center;background-color: white;padding-right: 0.2em;padding-left: 0.2em;position: relative;}#sk-container-id-7 div.sk-item {position: relative;z-index: 1;}#sk-container-id-7 div.sk-parallel {display: flex;align-items: stretch;justify-content: center;background-color: white;position: relative;}#sk-container-id-7 div.sk-item::before, #sk-container-id-7 div.sk-parallel-item::before {content: \"\";position: absolute;border-left: 1px solid gray;box-sizing: border-box;top: 0;bottom: 0;left: 50%;z-index: -1;}#sk-container-id-7 div.sk-parallel-item {display: flex;flex-direction: column;z-index: 1;position: relative;background-color: white;}#sk-container-id-7 div.sk-parallel-item:first-child::after {align-self: flex-end;width: 50%;}#sk-container-id-7 div.sk-parallel-item:last-child::after {align-self: flex-start;width: 50%;}#sk-container-id-7 div.sk-parallel-item:only-child::after {width: 0;}#sk-container-id-7 div.sk-dashed-wrapped {border: 1px dashed gray;margin: 0 0.4em 0.5em 0.4em;box-sizing: border-box;padding-bottom: 0.4em;background-color: white;}#sk-container-id-7 div.sk-label label {font-family: monospace;font-weight: bold;display: inline-block;line-height: 1.2em;}#sk-container-id-7 div.sk-label-container {text-align: center;}#sk-container-id-7 div.sk-container {/* jupyter's `normalize.less` sets `[hidden] { display: none; }` but bootstrap.min.css set `[hidden] { display: none !important; }` so we also need the `!important` here to be able to override the default hidden behavior on the sphinx rendered scikit-learn.org. See: https://github.com/scikit-learn/scikit-learn/issues/21755 */display: inline-block !important;position: relative;}#sk-container-id-7 div.sk-text-repr-fallback {display: none;}</style><div id=\"sk-container-id-7\" class=\"sk-top-container\"><div class=\"sk-text-repr-fallback\"><pre>DecisionTreeClassifier()</pre><b>In a Jupyter environment, please rerun this cell to show the HTML representation or trust the notebook. <br />On GitHub, the HTML representation is unable to render, please try loading this page with nbviewer.org.</b></div><div class=\"sk-container\" hidden><div class=\"sk-item\"><div class=\"sk-estimator sk-toggleable\"><input class=\"sk-toggleable__control sk-hidden--visually\" id=\"sk-estimator-id-7\" type=\"checkbox\" checked><label for=\"sk-estimator-id-7\" class=\"sk-toggleable__label sk-toggleable__label-arrow\">DecisionTreeClassifier</label><div class=\"sk-toggleable__content\"><pre>DecisionTreeClassifier()</pre></div></div></div></div></div>"
            ]
          },
          "metadata": {},
          "execution_count": 59
        }
      ]
    },
    {
      "cell_type": "code",
      "source": [
        "y_pred = model.predict(X_test)\n",
        "ytrain_pred = model.predict_proba(X_train)\n",
        "ytest_pred = model.predict_proba(X_test)\n",
        "print(\"Training Score: {}\".format(roc_auc_score(y_train, ytrain_pred[:,1])))\n",
        "print(\"Testing Score:{}\". format(roc_auc_score(y_test, ytest_pred[:,1])))\n",
        "modify_result(\"Decision Tree Classifier\",\n",
        "             accuracy_score(model.predict(X_train), y_train),\n",
        "             accuracy_score(y_test, y_pred))"
      ],
      "metadata": {
        "id": "XXfoOvCPNFql",
        "colab": {
          "base_uri": "https://localhost:8080/"
        },
        "outputId": "d05eebcd-b5c0-479e-c9c4-b53c000145ce"
      },
      "execution_count": 60,
      "outputs": [
        {
          "output_type": "stream",
          "name": "stdout",
          "text": [
            "Training Score: 1.0\n",
            "Testing Score:0.7581531803738865\n"
          ]
        }
      ]
    },
    {
      "cell_type": "code",
      "source": [
        "y_pred=model.predict(X_test)\n",
        "print(confusion_matrix(y_test,y_pred))\n",
        "print(accuracy_score(y_test,y_pred))\n",
        "print(classification_report(y_test,y_pred))"
      ],
      "metadata": {
        "id": "is8TFdIHNHEO",
        "colab": {
          "base_uri": "https://localhost:8080/"
        },
        "outputId": "27e6644d-323d-4f81-80eb-e4d72f2315cd"
      },
      "execution_count": 61,
      "outputs": [
        {
          "output_type": "stream",
          "name": "stdout",
          "text": [
            "[[199387  57108]\n",
            " [ 66957 189538]]\n",
            "0.7581531803738865\n",
            "              precision    recall  f1-score   support\n",
            "\n",
            "           0       0.75      0.78      0.76    256495\n",
            "           1       0.77      0.74      0.75    256495\n",
            "\n",
            "    accuracy                           0.76    512990\n",
            "   macro avg       0.76      0.76      0.76    512990\n",
            "weighted avg       0.76      0.76      0.76    512990\n",
            "\n"
          ]
        }
      ]
    },
    {
      "cell_type": "code",
      "source": [
        "# from sklearn.model_selection import KFold\n",
        "# from sklearn.model_selection import cross_val_score\n",
        "# from sklearn.ensemble import BaggingClassifier\n",
        "# from sklearn.tree import DecisionTreeClassifier\n",
        "# seed = 7\n",
        "# kfold = KFold(n_splits=10)\n",
        "# cart = DecisionTreeClassifier()\n",
        "# num_trees = 100\n",
        "\n",
        "# model1 = BaggingClassifier(base_estimator=cart, n_estimators=num_trees)\n",
        "# model1.fit(X_train,y_train)"
      ],
      "metadata": {
        "id": "04-YzQ03NIQc"
      },
      "execution_count": 62,
      "outputs": []
    },
    {
      "cell_type": "code",
      "source": [
        "# from sklearn.metrics import accuracy_score, confusion_matrix\n",
        "\n",
        "# y_pred = model1.predict(X_test)\n",
        "# ytrain_pred = model1.predict_proba(X_train)\n",
        "# ytest_pred = model1.predict_proba(X_test)\n",
        "# print(\"Training Score: {}\".format(roc_auc_score(y_train, ytrain_pred[:,1])))\n",
        "# print(\"Testing Score:{}\". format(roc_auc_score(y_test, ytest_pred[:,1])))\n",
        "# modify_result(\"Bagged Decision Tree Classifier\",\n",
        "#              accuracy_score(model1.predict(X_train), y_train),\n",
        "#              accuracy_score(y_test, y_pred))"
      ],
      "metadata": {
        "id": "xplW_fD4NJs9"
      },
      "execution_count": 63,
      "outputs": []
    },
    {
      "cell_type": "code",
      "source": [
        "# y_pred=model1.predict(X_test)\n",
        "# print(confusion_matrix(y_test,y_pred))\n",
        "# print(accuracy_score(y_test,y_pred))\n",
        "# print(classification_report(y_test,y_pred))"
      ],
      "metadata": {
        "id": "N-o37A_kNL58"
      },
      "execution_count": 64,
      "outputs": []
    },
    {
      "cell_type": "code",
      "source": [
        "# from sklearn import svm\n",
        "\n",
        "# from sklearn.svm import SVC\n",
        "# from sklearn.model_selection import GridSearchCV\n",
        "# from sklearn.model_selection import KFold\n",
        "# clff = SVC(probability=True)\n",
        "# clff.fit(X_train,y_train)\n",
        "# ytrain_pred = clff.predict_proba(X_train)\n",
        "# print('Training Score: {}'.format(roc_auc_score(y_train, ytrain_pred[:,1])))\n",
        "# ytest_pred = clff.predict_proba(X_test)\n",
        "# print('Testing Score: {}'.format(roc_auc_score(y_test, ytest_pred[:,1])))\n",
        "\n",
        "# modify_result(\"SVM\",\n",
        "#              accuracy_score(clff.predict(X_train), y_train),\n",
        "#              accuracy_score(y_test, y_pred))"
      ],
      "metadata": {
        "id": "b7blxgFxNNZA"
      },
      "execution_count": 65,
      "outputs": []
    },
    {
      "cell_type": "code",
      "source": [
        "# y_pred=clff.predict(X_test)\n",
        "# print(confusion_matrix(y_test,y_pred))\n",
        "# print(accuracy_score(y_test,y_pred))\n",
        "# print(classification_report(y_test,y_pred))"
      ],
      "metadata": {
        "id": "8UJIXitbNPQ_"
      },
      "execution_count": 66,
      "outputs": []
    },
    {
      "cell_type": "code",
      "source": [
        "data=pd.DataFrame(result_df)\n",
        "data.sort_values(['testing_score'],ascending=False)"
      ],
      "metadata": {
        "id": "2DW5sG92NRIK",
        "colab": {
          "base_uri": "https://localhost:8080/",
          "height": 269
        },
        "outputId": "f92567e7-acd2-444f-d30b-a7f1dc1a2ea6"
      },
      "execution_count": 67,
      "outputs": [
        {
          "output_type": "execute_result",
          "data": {
            "text/plain": [
              "                      model  training_score  testing_score\n",
              "0  Random forest classifier        0.911544       0.829106\n",
              "3       Adaboost classifier        0.798895       0.798641\n",
              "6  Decision Tree Classifier        1.000000       0.758153\n",
              "1         Gradient Boosting        0.755324       0.754931\n",
              "2      Guassian Naive Bayes        0.687459       0.688245\n",
              "4       Logistic Regression        0.600408       0.600173\n",
              "5                       KNN        0.841169       0.583035"
            ],
            "text/html": [
              "\n",
              "  <div id=\"df-e8f97cae-8f3d-42d5-aceb-2478a4015c23\" class=\"colab-df-container\">\n",
              "    <div>\n",
              "<style scoped>\n",
              "    .dataframe tbody tr th:only-of-type {\n",
              "        vertical-align: middle;\n",
              "    }\n",
              "\n",
              "    .dataframe tbody tr th {\n",
              "        vertical-align: top;\n",
              "    }\n",
              "\n",
              "    .dataframe thead th {\n",
              "        text-align: right;\n",
              "    }\n",
              "</style>\n",
              "<table border=\"1\" class=\"dataframe\">\n",
              "  <thead>\n",
              "    <tr style=\"text-align: right;\">\n",
              "      <th></th>\n",
              "      <th>model</th>\n",
              "      <th>training_score</th>\n",
              "      <th>testing_score</th>\n",
              "    </tr>\n",
              "  </thead>\n",
              "  <tbody>\n",
              "    <tr>\n",
              "      <th>0</th>\n",
              "      <td>Random forest classifier</td>\n",
              "      <td>0.911544</td>\n",
              "      <td>0.829106</td>\n",
              "    </tr>\n",
              "    <tr>\n",
              "      <th>3</th>\n",
              "      <td>Adaboost classifier</td>\n",
              "      <td>0.798895</td>\n",
              "      <td>0.798641</td>\n",
              "    </tr>\n",
              "    <tr>\n",
              "      <th>6</th>\n",
              "      <td>Decision Tree Classifier</td>\n",
              "      <td>1.000000</td>\n",
              "      <td>0.758153</td>\n",
              "    </tr>\n",
              "    <tr>\n",
              "      <th>1</th>\n",
              "      <td>Gradient Boosting</td>\n",
              "      <td>0.755324</td>\n",
              "      <td>0.754931</td>\n",
              "    </tr>\n",
              "    <tr>\n",
              "      <th>2</th>\n",
              "      <td>Guassian Naive Bayes</td>\n",
              "      <td>0.687459</td>\n",
              "      <td>0.688245</td>\n",
              "    </tr>\n",
              "    <tr>\n",
              "      <th>4</th>\n",
              "      <td>Logistic Regression</td>\n",
              "      <td>0.600408</td>\n",
              "      <td>0.600173</td>\n",
              "    </tr>\n",
              "    <tr>\n",
              "      <th>5</th>\n",
              "      <td>KNN</td>\n",
              "      <td>0.841169</td>\n",
              "      <td>0.583035</td>\n",
              "    </tr>\n",
              "  </tbody>\n",
              "</table>\n",
              "</div>\n",
              "    <div class=\"colab-df-buttons\">\n",
              "\n",
              "  <div class=\"colab-df-container\">\n",
              "    <button class=\"colab-df-convert\" onclick=\"convertToInteractive('df-e8f97cae-8f3d-42d5-aceb-2478a4015c23')\"\n",
              "            title=\"Convert this dataframe to an interactive table.\"\n",
              "            style=\"display:none;\">\n",
              "\n",
              "  <svg xmlns=\"http://www.w3.org/2000/svg\" height=\"24px\" viewBox=\"0 -960 960 960\">\n",
              "    <path d=\"M120-120v-720h720v720H120Zm60-500h600v-160H180v160Zm220 220h160v-160H400v160Zm0 220h160v-160H400v160ZM180-400h160v-160H180v160Zm440 0h160v-160H620v160ZM180-180h160v-160H180v160Zm440 0h160v-160H620v160Z\"/>\n",
              "  </svg>\n",
              "    </button>\n",
              "\n",
              "  <style>\n",
              "    .colab-df-container {\n",
              "      display:flex;\n",
              "      gap: 12px;\n",
              "    }\n",
              "\n",
              "    .colab-df-convert {\n",
              "      background-color: #E8F0FE;\n",
              "      border: none;\n",
              "      border-radius: 50%;\n",
              "      cursor: pointer;\n",
              "      display: none;\n",
              "      fill: #1967D2;\n",
              "      height: 32px;\n",
              "      padding: 0 0 0 0;\n",
              "      width: 32px;\n",
              "    }\n",
              "\n",
              "    .colab-df-convert:hover {\n",
              "      background-color: #E2EBFA;\n",
              "      box-shadow: 0px 1px 2px rgba(60, 64, 67, 0.3), 0px 1px 3px 1px rgba(60, 64, 67, 0.15);\n",
              "      fill: #174EA6;\n",
              "    }\n",
              "\n",
              "    .colab-df-buttons div {\n",
              "      margin-bottom: 4px;\n",
              "    }\n",
              "\n",
              "    [theme=dark] .colab-df-convert {\n",
              "      background-color: #3B4455;\n",
              "      fill: #D2E3FC;\n",
              "    }\n",
              "\n",
              "    [theme=dark] .colab-df-convert:hover {\n",
              "      background-color: #434B5C;\n",
              "      box-shadow: 0px 1px 3px 1px rgba(0, 0, 0, 0.15);\n",
              "      filter: drop-shadow(0px 1px 2px rgba(0, 0, 0, 0.3));\n",
              "      fill: #FFFFFF;\n",
              "    }\n",
              "  </style>\n",
              "\n",
              "    <script>\n",
              "      const buttonEl =\n",
              "        document.querySelector('#df-e8f97cae-8f3d-42d5-aceb-2478a4015c23 button.colab-df-convert');\n",
              "      buttonEl.style.display =\n",
              "        google.colab.kernel.accessAllowed ? 'block' : 'none';\n",
              "\n",
              "      async function convertToInteractive(key) {\n",
              "        const element = document.querySelector('#df-e8f97cae-8f3d-42d5-aceb-2478a4015c23');\n",
              "        const dataTable =\n",
              "          await google.colab.kernel.invokeFunction('convertToInteractive',\n",
              "                                                    [key], {});\n",
              "        if (!dataTable) return;\n",
              "\n",
              "        const docLinkHtml = 'Like what you see? Visit the ' +\n",
              "          '<a target=\"_blank\" href=https://colab.research.google.com/notebooks/data_table.ipynb>data table notebook</a>'\n",
              "          + ' to learn more about interactive tables.';\n",
              "        element.innerHTML = '';\n",
              "        dataTable['output_type'] = 'display_data';\n",
              "        await google.colab.output.renderOutput(dataTable, element);\n",
              "        const docLink = document.createElement('div');\n",
              "        docLink.innerHTML = docLinkHtml;\n",
              "        element.appendChild(docLink);\n",
              "      }\n",
              "    </script>\n",
              "  </div>\n",
              "\n",
              "\n",
              "<div id=\"df-565f4375-d6f7-43b4-9069-4bdfeb3a709a\">\n",
              "  <button class=\"colab-df-quickchart\" onclick=\"quickchart('df-565f4375-d6f7-43b4-9069-4bdfeb3a709a')\"\n",
              "            title=\"Suggest charts.\"\n",
              "            style=\"display:none;\">\n",
              "\n",
              "<svg xmlns=\"http://www.w3.org/2000/svg\" height=\"24px\"viewBox=\"0 0 24 24\"\n",
              "     width=\"24px\">\n",
              "    <g>\n",
              "        <path d=\"M19 3H5c-1.1 0-2 .9-2 2v14c0 1.1.9 2 2 2h14c1.1 0 2-.9 2-2V5c0-1.1-.9-2-2-2zM9 17H7v-7h2v7zm4 0h-2V7h2v10zm4 0h-2v-4h2v4z\"/>\n",
              "    </g>\n",
              "</svg>\n",
              "  </button>\n",
              "\n",
              "<style>\n",
              "  .colab-df-quickchart {\n",
              "    background-color: #E8F0FE;\n",
              "    border: none;\n",
              "    border-radius: 50%;\n",
              "    cursor: pointer;\n",
              "    display: none;\n",
              "    fill: #1967D2;\n",
              "    height: 32px;\n",
              "    padding: 0 0 0 0;\n",
              "    width: 32px;\n",
              "  }\n",
              "\n",
              "  .colab-df-quickchart:hover {\n",
              "    background-color: #E2EBFA;\n",
              "    box-shadow: 0px 1px 2px rgba(60, 64, 67, 0.3), 0px 1px 3px 1px rgba(60, 64, 67, 0.15);\n",
              "    fill: #174EA6;\n",
              "  }\n",
              "\n",
              "  [theme=dark] .colab-df-quickchart {\n",
              "    background-color: #3B4455;\n",
              "    fill: #D2E3FC;\n",
              "  }\n",
              "\n",
              "  [theme=dark] .colab-df-quickchart:hover {\n",
              "    background-color: #434B5C;\n",
              "    box-shadow: 0px 1px 3px 1px rgba(0, 0, 0, 0.15);\n",
              "    filter: drop-shadow(0px 1px 2px rgba(0, 0, 0, 0.3));\n",
              "    fill: #FFFFFF;\n",
              "  }\n",
              "</style>\n",
              "\n",
              "  <script>\n",
              "    async function quickchart(key) {\n",
              "      const charts = await google.colab.kernel.invokeFunction(\n",
              "          'suggestCharts', [key], {});\n",
              "    }\n",
              "    (() => {\n",
              "      let quickchartButtonEl =\n",
              "        document.querySelector('#df-565f4375-d6f7-43b4-9069-4bdfeb3a709a button');\n",
              "      quickchartButtonEl.style.display =\n",
              "        google.colab.kernel.accessAllowed ? 'block' : 'none';\n",
              "    })();\n",
              "  </script>\n",
              "</div>\n",
              "    </div>\n",
              "  </div>\n"
            ]
          },
          "metadata": {},
          "execution_count": 67
        }
      ]
    },
    {
      "cell_type": "code",
      "source": [
        "data = pd.DataFrame(result_df)\n",
        "data.sort_values(by=\"testing_score\", ascending=False).plot(kind=\"bar\", x=\"model\", rot=45, figsize=(16,9),color=[\"lightskyblue\",\"royalblue\"])\n",
        "plt.title(\"Model Performances\")\n",
        "plt.ylabel=(\"Accuracy Score\")\n",
        "plt.xlabel=(\"Models\")\n",
        "plt.legend([\"Train Score\",\"Test Score\"])"
      ],
      "metadata": {
        "id": "4U1FtgTiNT-L",
        "colab": {
          "base_uri": "https://localhost:8080/",
          "height": 927
        },
        "outputId": "c2ad4be6-f213-4d64-da2a-f297da557f59"
      },
      "execution_count": 68,
      "outputs": [
        {
          "output_type": "execute_result",
          "data": {
            "text/plain": [
              "<matplotlib.legend.Legend at 0x7cdbdeb73520>"
            ]
          },
          "metadata": {},
          "execution_count": 68
        },
        {
          "output_type": "display_data",
          "data": {
            "text/plain": [
              "<Figure size 1600x900 with 1 Axes>"
            ],
            "image/png": "[encoded data removed]"
          },
          "metadata": {}
        }
      ]
    }
  ]
}